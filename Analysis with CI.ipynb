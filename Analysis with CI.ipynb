{
 "cells": [
  {
   "cell_type": "code",
   "execution_count": 1,
   "metadata": {
    "collapsed": false
   },
   "outputs": [],
   "source": [
    "'''\n",
    "Author: Sriram Yarlagadda + George Nakhleh\n",
    "Date Created: 9/12/2016\n",
    "Note: Please use Python 2.7\n",
    "'''\n",
    "import os\n",
    "import numpy as np\n",
    "import pandas as pd\n",
    "import matplotlib.pyplot as plt\n",
    "from statsmodels.stats import proportion\n",
    "from scipy import stats\n",
    "%matplotlib inline\n",
    "#os.chdir('C:\\\\Users\\\\gnakhleh\\\\Documents\\\\Loyola\\\\Spine Ileus') #Set location of home dir here.\n",
    "#os.chdir('/Users/Sriram/Desktop/DePaul/Loyola-ILEUS-Analysis')#location in Mac\n",
    "os.chdir('C:/Users/syarlag1/Desktop/Loyola-ILEUS-Analysis')"
   ]
  },
  {
   "cell_type": "markdown",
   "metadata": {},
   "source": [
    "### Reading the Data"
   ]
  },
  {
   "cell_type": "code",
   "execution_count": 2,
   "metadata": {
    "collapsed": false
   },
   "outputs": [],
   "source": [
    "varLst = ['KEY','SCOLI','LOS','SHORT','LONG','ALIF','PLIF','ileus_NPOA', 'SCOLI_ILEUS','SHORT_ILEUS',\\\n",
    "          'LONG_ILEUS','ALIF_ILEUS','PLIF_ILEUS', 'DIED', 'MI_POA', 'MI_NPOA', 'DVT_POA', 'DVT_NPOA',\\\n",
    "          'Sepsis_POA', 'Sepsis_NPOA', 'PE_POA', 'PE_NPOA']\n",
    "CAData = pd.read_stata('SPINE_ILEUS_CA.dta', columns=varLst)"
   ]
  },
  {
   "cell_type": "code",
   "execution_count": 3,
   "metadata": {
    "collapsed": false
   },
   "outputs": [
    {
     "data": {
      "text/html": [
       "<div>\n",
       "<table border=\"1\" class=\"dataframe\">\n",
       "  <thead>\n",
       "    <tr style=\"text-align: right;\">\n",
       "      <th></th>\n",
       "      <th>KEY</th>\n",
       "      <th>SCOLI</th>\n",
       "      <th>LOS</th>\n",
       "      <th>SHORT</th>\n",
       "      <th>LONG</th>\n",
       "      <th>ALIF</th>\n",
       "      <th>PLIF</th>\n",
       "      <th>ileus_NPOA</th>\n",
       "      <th>SCOLI_ILEUS</th>\n",
       "      <th>SHORT_ILEUS</th>\n",
       "      <th>...</th>\n",
       "      <th>PLIF_ILEUS</th>\n",
       "      <th>DIED</th>\n",
       "      <th>MI_POA</th>\n",
       "      <th>MI_NPOA</th>\n",
       "      <th>DVT_POA</th>\n",
       "      <th>DVT_NPOA</th>\n",
       "      <th>Sepsis_POA</th>\n",
       "      <th>Sepsis_NPOA</th>\n",
       "      <th>PE_POA</th>\n",
       "      <th>PE_NPOA</th>\n",
       "    </tr>\n",
       "  </thead>\n",
       "  <tbody>\n",
       "    <tr>\n",
       "      <th>count</th>\n",
       "      <td>1.985570e+05</td>\n",
       "      <td>198557.000000</td>\n",
       "      <td>198553.000000</td>\n",
       "      <td>198557.000000</td>\n",
       "      <td>198557.000000</td>\n",
       "      <td>198557.000000</td>\n",
       "      <td>198557.000000</td>\n",
       "      <td>198557.000000</td>\n",
       "      <td>198557.000000</td>\n",
       "      <td>198557.000000</td>\n",
       "      <td>...</td>\n",
       "      <td>198557.000000</td>\n",
       "      <td>198544.000000</td>\n",
       "      <td>198557.000000</td>\n",
       "      <td>198557.000000</td>\n",
       "      <td>198557.000000</td>\n",
       "      <td>198557.000000</td>\n",
       "      <td>198557.000000</td>\n",
       "      <td>198557.000000</td>\n",
       "      <td>198557.0</td>\n",
       "      <td>198557.0</td>\n",
       "    </tr>\n",
       "    <tr>\n",
       "      <th>mean</th>\n",
       "      <td>6.200873e+12</td>\n",
       "      <td>0.870642</td>\n",
       "      <td>4.831481</td>\n",
       "      <td>0.798174</td>\n",
       "      <td>0.211551</td>\n",
       "      <td>0.149327</td>\n",
       "      <td>0.106660</td>\n",
       "      <td>0.026169</td>\n",
       "      <td>0.023409</td>\n",
       "      <td>0.019073</td>\n",
       "      <td>...</td>\n",
       "      <td>0.003984</td>\n",
       "      <td>0.003752</td>\n",
       "      <td>0.000579</td>\n",
       "      <td>0.002770</td>\n",
       "      <td>0.001501</td>\n",
       "      <td>0.003616</td>\n",
       "      <td>0.002090</td>\n",
       "      <td>0.005293</td>\n",
       "      <td>0.0</td>\n",
       "      <td>0.0</td>\n",
       "    </tr>\n",
       "    <tr>\n",
       "      <th>std</th>\n",
       "      <td>1.699881e+08</td>\n",
       "      <td>0.336071</td>\n",
       "      <td>22.353190</td>\n",
       "      <td>0.401497</td>\n",
       "      <td>0.408499</td>\n",
       "      <td>0.355765</td>\n",
       "      <td>0.309005</td>\n",
       "      <td>0.159243</td>\n",
       "      <td>0.151016</td>\n",
       "      <td>0.136434</td>\n",
       "      <td>...</td>\n",
       "      <td>0.062903</td>\n",
       "      <td>0.068153</td>\n",
       "      <td>0.024052</td>\n",
       "      <td>0.052513</td>\n",
       "      <td>0.038685</td>\n",
       "      <td>0.059937</td>\n",
       "      <td>0.045644</td>\n",
       "      <td>0.072438</td>\n",
       "      <td>0.0</td>\n",
       "      <td>0.0</td>\n",
       "    </tr>\n",
       "    <tr>\n",
       "      <th>min</th>\n",
       "      <td>6.200610e+12</td>\n",
       "      <td>0.000000</td>\n",
       "      <td>-6666.000000</td>\n",
       "      <td>0.000000</td>\n",
       "      <td>0.000000</td>\n",
       "      <td>0.000000</td>\n",
       "      <td>0.000000</td>\n",
       "      <td>0.000000</td>\n",
       "      <td>0.000000</td>\n",
       "      <td>0.000000</td>\n",
       "      <td>...</td>\n",
       "      <td>0.000000</td>\n",
       "      <td>-9.000000</td>\n",
       "      <td>0.000000</td>\n",
       "      <td>0.000000</td>\n",
       "      <td>0.000000</td>\n",
       "      <td>0.000000</td>\n",
       "      <td>0.000000</td>\n",
       "      <td>0.000000</td>\n",
       "      <td>0.0</td>\n",
       "      <td>0.0</td>\n",
       "    </tr>\n",
       "    <tr>\n",
       "      <th>25%</th>\n",
       "      <td>6.200713e+12</td>\n",
       "      <td>1.000000</td>\n",
       "      <td>2.000000</td>\n",
       "      <td>1.000000</td>\n",
       "      <td>0.000000</td>\n",
       "      <td>0.000000</td>\n",
       "      <td>0.000000</td>\n",
       "      <td>0.000000</td>\n",
       "      <td>0.000000</td>\n",
       "      <td>0.000000</td>\n",
       "      <td>...</td>\n",
       "      <td>0.000000</td>\n",
       "      <td>0.000000</td>\n",
       "      <td>0.000000</td>\n",
       "      <td>0.000000</td>\n",
       "      <td>0.000000</td>\n",
       "      <td>0.000000</td>\n",
       "      <td>0.000000</td>\n",
       "      <td>0.000000</td>\n",
       "      <td>0.0</td>\n",
       "      <td>0.0</td>\n",
       "    </tr>\n",
       "    <tr>\n",
       "      <th>50%</th>\n",
       "      <td>6.200911e+12</td>\n",
       "      <td>1.000000</td>\n",
       "      <td>3.000000</td>\n",
       "      <td>1.000000</td>\n",
       "      <td>0.000000</td>\n",
       "      <td>0.000000</td>\n",
       "      <td>0.000000</td>\n",
       "      <td>0.000000</td>\n",
       "      <td>0.000000</td>\n",
       "      <td>0.000000</td>\n",
       "      <td>...</td>\n",
       "      <td>0.000000</td>\n",
       "      <td>0.000000</td>\n",
       "      <td>0.000000</td>\n",
       "      <td>0.000000</td>\n",
       "      <td>0.000000</td>\n",
       "      <td>0.000000</td>\n",
       "      <td>0.000000</td>\n",
       "      <td>0.000000</td>\n",
       "      <td>0.0</td>\n",
       "      <td>0.0</td>\n",
       "    </tr>\n",
       "    <tr>\n",
       "      <th>75%</th>\n",
       "      <td>6.201012e+12</td>\n",
       "      <td>1.000000</td>\n",
       "      <td>5.000000</td>\n",
       "      <td>1.000000</td>\n",
       "      <td>0.000000</td>\n",
       "      <td>0.000000</td>\n",
       "      <td>0.000000</td>\n",
       "      <td>0.000000</td>\n",
       "      <td>0.000000</td>\n",
       "      <td>0.000000</td>\n",
       "      <td>...</td>\n",
       "      <td>0.000000</td>\n",
       "      <td>0.000000</td>\n",
       "      <td>0.000000</td>\n",
       "      <td>0.000000</td>\n",
       "      <td>0.000000</td>\n",
       "      <td>0.000000</td>\n",
       "      <td>0.000000</td>\n",
       "      <td>0.000000</td>\n",
       "      <td>0.0</td>\n",
       "      <td>0.0</td>\n",
       "    </tr>\n",
       "    <tr>\n",
       "      <th>max</th>\n",
       "      <td>6.201114e+12</td>\n",
       "      <td>1.000000</td>\n",
       "      <td>358.000000</td>\n",
       "      <td>1.000000</td>\n",
       "      <td>1.000000</td>\n",
       "      <td>1.000000</td>\n",
       "      <td>1.000000</td>\n",
       "      <td>1.000000</td>\n",
       "      <td>1.000000</td>\n",
       "      <td>1.000000</td>\n",
       "      <td>...</td>\n",
       "      <td>1.000000</td>\n",
       "      <td>1.000000</td>\n",
       "      <td>1.000000</td>\n",
       "      <td>1.000000</td>\n",
       "      <td>1.000000</td>\n",
       "      <td>1.000000</td>\n",
       "      <td>1.000000</td>\n",
       "      <td>1.000000</td>\n",
       "      <td>0.0</td>\n",
       "      <td>0.0</td>\n",
       "    </tr>\n",
       "  </tbody>\n",
       "</table>\n",
       "<p>8 rows × 22 columns</p>\n",
       "</div>"
      ],
      "text/plain": [
       "                KEY          SCOLI            LOS          SHORT  \\\n",
       "count  1.985570e+05  198557.000000  198553.000000  198557.000000   \n",
       "mean   6.200873e+12       0.870642       4.831481       0.798174   \n",
       "std    1.699881e+08       0.336071      22.353190       0.401497   \n",
       "min    6.200610e+12       0.000000   -6666.000000       0.000000   \n",
       "25%    6.200713e+12       1.000000       2.000000       1.000000   \n",
       "50%    6.200911e+12       1.000000       3.000000       1.000000   \n",
       "75%    6.201012e+12       1.000000       5.000000       1.000000   \n",
       "max    6.201114e+12       1.000000     358.000000       1.000000   \n",
       "\n",
       "                LONG           ALIF           PLIF     ileus_NPOA  \\\n",
       "count  198557.000000  198557.000000  198557.000000  198557.000000   \n",
       "mean        0.211551       0.149327       0.106660       0.026169   \n",
       "std         0.408499       0.355765       0.309005       0.159243   \n",
       "min         0.000000       0.000000       0.000000       0.000000   \n",
       "25%         0.000000       0.000000       0.000000       0.000000   \n",
       "50%         0.000000       0.000000       0.000000       0.000000   \n",
       "75%         0.000000       0.000000       0.000000       0.000000   \n",
       "max         1.000000       1.000000       1.000000       1.000000   \n",
       "\n",
       "         SCOLI_ILEUS    SHORT_ILEUS    ...        PLIF_ILEUS           DIED  \\\n",
       "count  198557.000000  198557.000000    ...     198557.000000  198544.000000   \n",
       "mean        0.023409       0.019073    ...          0.003984       0.003752   \n",
       "std         0.151016       0.136434    ...          0.062903       0.068153   \n",
       "min         0.000000       0.000000    ...          0.000000      -9.000000   \n",
       "25%         0.000000       0.000000    ...          0.000000       0.000000   \n",
       "50%         0.000000       0.000000    ...          0.000000       0.000000   \n",
       "75%         0.000000       0.000000    ...          0.000000       0.000000   \n",
       "max         1.000000       1.000000    ...          1.000000       1.000000   \n",
       "\n",
       "              MI_POA        MI_NPOA        DVT_POA       DVT_NPOA  \\\n",
       "count  198557.000000  198557.000000  198557.000000  198557.000000   \n",
       "mean        0.000579       0.002770       0.001501       0.003616   \n",
       "std         0.024052       0.052513       0.038685       0.059937   \n",
       "min         0.000000       0.000000       0.000000       0.000000   \n",
       "25%         0.000000       0.000000       0.000000       0.000000   \n",
       "50%         0.000000       0.000000       0.000000       0.000000   \n",
       "75%         0.000000       0.000000       0.000000       0.000000   \n",
       "max         1.000000       1.000000       1.000000       1.000000   \n",
       "\n",
       "          Sepsis_POA    Sepsis_NPOA    PE_POA   PE_NPOA  \n",
       "count  198557.000000  198557.000000  198557.0  198557.0  \n",
       "mean        0.002090       0.005293       0.0       0.0  \n",
       "std         0.045644       0.072438       0.0       0.0  \n",
       "min         0.000000       0.000000       0.0       0.0  \n",
       "25%         0.000000       0.000000       0.0       0.0  \n",
       "50%         0.000000       0.000000       0.0       0.0  \n",
       "75%         0.000000       0.000000       0.0       0.0  \n",
       "max         1.000000       1.000000       0.0       0.0  \n",
       "\n",
       "[8 rows x 22 columns]"
      ]
     },
     "execution_count": 3,
     "metadata": {},
     "output_type": "execute_result"
    }
   ],
   "source": [
    "CAData.describe()  #note that there are no patients with PE"
   ]
  },
  {
   "cell_type": "markdown",
   "metadata": {},
   "source": [
    "### Data Preprocessing"
   ]
  },
  {
   "cell_type": "code",
   "execution_count": 4,
   "metadata": {
    "collapsed": false
   },
   "outputs": [
    {
     "data": {
      "text/plain": [
       "array([0, 0, 2, 0, 0, 0, 0, 0, 0, 0, 0, 0, 0, 2, 0, 0, 0, 0, 0, 0, 0, 0])"
      ]
     },
     "execution_count": 4,
     "metadata": {},
     "output_type": "execute_result"
    }
   ],
   "source": [
    "np.sum(np.array(CAData < 0), 0)"
   ]
  },
  {
   "cell_type": "markdown",
   "metadata": {},
   "source": [
    "As we can see there are only 4 negative values that need to be removed. In addition to this, we also scan for any NaNs:"
   ]
  },
  {
   "cell_type": "code",
   "execution_count": 5,
   "metadata": {
    "collapsed": false
   },
   "outputs": [
    {
     "data": {
      "text/plain": [
       "array([ 0,  0,  4,  0,  0,  0,  0,  0,  0,  0,  0,  0,  0, 13,  0,  0,  0,\n",
       "        0,  0,  0,  0,  0])"
      ]
     },
     "execution_count": 5,
     "metadata": {},
     "output_type": "execute_result"
    }
   ],
   "source": [
    "np.sum(np.array(pd.isnull(CAData)),0)"
   ]
  },
  {
   "cell_type": "markdown",
   "metadata": {},
   "source": [
    "There are 17 NaNs. We proceed to clean the data:"
   ]
  },
  {
   "cell_type": "code",
   "execution_count": 6,
   "metadata": {
    "collapsed": true
   },
   "outputs": [],
   "source": [
    "for feature in CAData.columns: \n",
    "    CAData = CAData[CAData[feature] >= 0]"
   ]
  },
  {
   "cell_type": "code",
   "execution_count": 7,
   "metadata": {
    "collapsed": false
   },
   "outputs": [
    {
     "data": {
      "text/plain": [
       "(198536, 22)"
      ]
     },
     "execution_count": 7,
     "metadata": {},
     "output_type": "execute_result"
    }
   ],
   "source": [
    "CAData.shape"
   ]
  },
  {
   "cell_type": "markdown",
   "metadata": {},
   "source": [
    "### Answers to Questions"
   ]
  },
  {
   "cell_type": "markdown",
   "metadata": {},
   "source": [
    "#### 1) Is there higher rate of ILEUS for patients that undergo ALIF vs PLIF (as past studies have shown)?"
   ]
  },
  {
   "cell_type": "code",
   "execution_count": 8,
   "metadata": {
    "collapsed": false
   },
   "outputs": [
    {
     "data": {
      "text/plain": [
       "(43287, 22)"
      ]
     },
     "execution_count": 8,
     "metadata": {},
     "output_type": "execute_result"
    }
   ],
   "source": [
    "CADataSub = CAData[(CAData.PLIF + CAData.ALIF) ==1]; CADataSub.shape #all such cases are removed"
   ]
  },
  {
   "cell_type": "code",
   "execution_count": 9,
   "metadata": {
    "collapsed": false
   },
   "outputs": [
    {
     "data": {
      "text/html": [
       "<div>\n",
       "<table border=\"1\" class=\"dataframe\">\n",
       "  <thead>\n",
       "    <tr>\n",
       "      <th>PLIF</th>\n",
       "      <th>0.0</th>\n",
       "      <th>1.0</th>\n",
       "    </tr>\n",
       "    <tr>\n",
       "      <th>ALIF</th>\n",
       "      <th>1.0</th>\n",
       "      <th>0.0</th>\n",
       "    </tr>\n",
       "    <tr>\n",
       "      <th>ileus_NPOA</th>\n",
       "      <th></th>\n",
       "      <th></th>\n",
       "    </tr>\n",
       "  </thead>\n",
       "  <tbody>\n",
       "    <tr>\n",
       "      <th>0.0</th>\n",
       "      <td>23921</td>\n",
       "      <td>16990</td>\n",
       "    </tr>\n",
       "    <tr>\n",
       "      <th>1.0</th>\n",
       "      <td>1957</td>\n",
       "      <td>419</td>\n",
       "    </tr>\n",
       "  </tbody>\n",
       "</table>\n",
       "</div>"
      ],
      "text/plain": [
       "PLIF          0.0    1.0\n",
       "ALIF          1.0    0.0\n",
       "ileus_NPOA              \n",
       "0.0         23921  16990\n",
       "1.0          1957    419"
      ]
     },
     "execution_count": 9,
     "metadata": {},
     "output_type": "execute_result"
    }
   ],
   "source": [
    "# We now look at a contingency table for both these cases\n",
    "ct_PvA = pd.crosstab(CADataSub.ileus_NPOA, [CADataSub.PLIF, CADataSub.ALIF]); ct_PvA#just the counts \n",
    "# We only need to compare based on one of the columns since PLIF == 0 would mean ALIF == 1 anyway"
   ]
  },
  {
   "cell_type": "code",
   "execution_count": 10,
   "metadata": {
    "collapsed": false
   },
   "outputs": [
    {
     "data": {
      "text/html": [
       "<div>\n",
       "<table border=\"1\" class=\"dataframe\">\n",
       "  <thead>\n",
       "    <tr>\n",
       "      <th>PLIF</th>\n",
       "      <th>0.0</th>\n",
       "      <th>1.0</th>\n",
       "    </tr>\n",
       "    <tr>\n",
       "      <th>ALIF</th>\n",
       "      <th>1.0</th>\n",
       "      <th>0.0</th>\n",
       "    </tr>\n",
       "    <tr>\n",
       "      <th>ileus_NPOA</th>\n",
       "      <th></th>\n",
       "      <th></th>\n",
       "    </tr>\n",
       "  </thead>\n",
       "  <tbody>\n",
       "    <tr>\n",
       "      <th>0.0</th>\n",
       "      <td>0.924376</td>\n",
       "      <td>0.975932</td>\n",
       "    </tr>\n",
       "    <tr>\n",
       "      <th>1.0</th>\n",
       "      <td>0.075624</td>\n",
       "      <td>0.024068</td>\n",
       "    </tr>\n",
       "  </tbody>\n",
       "</table>\n",
       "</div>"
      ],
      "text/plain": [
       "PLIF             0.0       1.0\n",
       "ALIF             1.0       0.0\n",
       "ileus_NPOA                    \n",
       "0.0         0.924376  0.975932\n",
       "1.0         0.075624  0.024068"
      ]
     },
     "execution_count": 10,
     "metadata": {},
     "output_type": "execute_result"
    }
   ],
   "source": [
    "pd.crosstab(CADataSub.ileus_NPOA, [CADataSub.PLIF, CADataSub.ALIF]).apply(lambda x: x/x.sum(), 0)"
   ]
  },
  {
   "cell_type": "code",
   "execution_count": 11,
   "metadata": {
    "collapsed": false
   },
   "outputs": [
    {
     "data": {
      "text/plain": [
       "'\\nprop.test(c(1957,419),c(25878,17409),correct=FALSE)\\n\\n\\t2-sample test for equality of proportions without\\n\\tcontinuity correction\\n\\ndata:  c(1957, 419) out of c(25878, 17409) \\nX-squared = 533.26, df = 1, p-value < 2.2e-16 \\nalternative hypothesis: two.sided\\n95 percent confidence interval:\\n 0.04761145 0.05550070\\nsample estimates:\\n    prop 1     prop 2 \\n0.07562408 0.02406801 \\n'"
      ]
     },
     "execution_count": 11,
     "metadata": {},
     "output_type": "execute_result"
    }
   ],
   "source": [
    "#Implemented the test in R as there doesnt seem to be a reliable package in python. Here are the results:\n",
    "'''\n",
    "prop.test(c(1957,419),c(25878,17409),correct=FALSE)\n",
    "\n",
    "\t2-sample test for equality of proportions without\n",
    "\tcontinuity correction\n",
    "\n",
    "data:  c(1957, 419) out of c(25878, 17409) \n",
    "X-squared = 533.26, df = 1, p-value < 2.2e-16 \n",
    "alternative hypothesis: two.sided\n",
    "95 percent confidence interval:\n",
    " 0.04761145 0.05550070\n",
    "sample estimates:\n",
    "    prop 1     prop 2 \n",
    "0.07562408 0.02406801 \n",
    "'''\n",
    "#SIGNIFICANT"
   ]
  },
  {
   "cell_type": "code",
   "execution_count": 12,
   "metadata": {
    "collapsed": false
   },
   "outputs": [
    {
     "data": {
      "text/html": [
       "<div>\n",
       "<table border=\"1\" class=\"dataframe\">\n",
       "  <thead>\n",
       "    <tr style=\"text-align: right;\">\n",
       "      <th>ileus_NPOA</th>\n",
       "      <th>0.0</th>\n",
       "      <th>1.0</th>\n",
       "    </tr>\n",
       "    <tr>\n",
       "      <th>ALIF</th>\n",
       "      <th></th>\n",
       "      <th></th>\n",
       "    </tr>\n",
       "  </thead>\n",
       "  <tbody>\n",
       "    <tr>\n",
       "      <th>0.0</th>\n",
       "      <td>16990</td>\n",
       "      <td>419</td>\n",
       "    </tr>\n",
       "    <tr>\n",
       "      <th>1.0</th>\n",
       "      <td>23921</td>\n",
       "      <td>1957</td>\n",
       "    </tr>\n",
       "  </tbody>\n",
       "</table>\n",
       "</div>"
      ],
      "text/plain": [
       "ileus_NPOA    0.0   1.0\n",
       "ALIF                   \n",
       "0.0         16990   419\n",
       "1.0         23921  1957"
      ]
     },
     "execution_count": 12,
     "metadata": {},
     "output_type": "execute_result"
    }
   ],
   "source": [
    "#Flipped so odds ratio is expressed clearly\n",
    "ct_ALIF = pd.crosstab(CADataSub.ALIF, CADataSub.ileus_NPOA); ct_ALIF#just the counts "
   ]
  },
  {
   "cell_type": "code",
   "execution_count": 13,
   "metadata": {
    "collapsed": false
   },
   "outputs": [
    {
     "name": "stdout",
     "output_type": "stream",
     "text": [
      "Odds ratio:  3.317346608\n"
     ]
    }
   ],
   "source": [
    "print \"Odds ratio: \", stats.fisher_exact(ct_ALIF)[0]"
   ]
  },
  {
   "cell_type": "code",
   "execution_count": 14,
   "metadata": {
    "collapsed": false
   },
   "outputs": [
    {
     "data": {
      "text/html": [
       "<div>\n",
       "<table border=\"1\" class=\"dataframe\">\n",
       "  <thead>\n",
       "    <tr style=\"text-align: right;\">\n",
       "      <th>ileus_NPOA</th>\n",
       "      <th>0.0</th>\n",
       "      <th>1.0</th>\n",
       "    </tr>\n",
       "    <tr>\n",
       "      <th>PLIF</th>\n",
       "      <th></th>\n",
       "      <th></th>\n",
       "    </tr>\n",
       "  </thead>\n",
       "  <tbody>\n",
       "    <tr>\n",
       "      <th>0.0</th>\n",
       "      <td>23921</td>\n",
       "      <td>1957</td>\n",
       "    </tr>\n",
       "    <tr>\n",
       "      <th>1.0</th>\n",
       "      <td>16990</td>\n",
       "      <td>419</td>\n",
       "    </tr>\n",
       "  </tbody>\n",
       "</table>\n",
       "</div>"
      ],
      "text/plain": [
       "ileus_NPOA    0.0   1.0\n",
       "PLIF                   \n",
       "0.0         23921  1957\n",
       "1.0         16990   419"
      ]
     },
     "execution_count": 14,
     "metadata": {},
     "output_type": "execute_result"
    }
   ],
   "source": [
    "ct_PLIF = pd.crosstab(CADataSub.PLIF, CADataSub.ileus_NPOA); ct_PLIF#just the counts "
   ]
  },
  {
   "cell_type": "code",
   "execution_count": 15,
   "metadata": {
    "collapsed": false
   },
   "outputs": [
    {
     "name": "stdout",
     "output_type": "stream",
     "text": [
      "Odds ratio:  0.30144573907\n"
     ]
    }
   ],
   "source": [
    "print \"Odds ratio: \", stats.fisher_exact(ct_PLIF)[0]"
   ]
  },
  {
   "cell_type": "markdown",
   "metadata": {},
   "source": [
    "#### 2) Does length of Fusion (Long vs Short) have an impact on ILEUS?"
   ]
  },
  {
   "cell_type": "code",
   "execution_count": 16,
   "metadata": {
    "collapsed": false
   },
   "outputs": [
    {
     "data": {
      "text/plain": [
       "(190922, 22)"
      ]
     },
     "execution_count": 16,
     "metadata": {},
     "output_type": "execute_result"
    }
   ],
   "source": [
    "CADataSub = CAData[(CAData.LONG + CAData.SHORT) ==1]; CADataSub.shape"
   ]
  },
  {
   "cell_type": "code",
   "execution_count": 17,
   "metadata": {
    "collapsed": false
   },
   "outputs": [
    {
     "data": {
      "text/html": [
       "<div>\n",
       "<table border=\"1\" class=\"dataframe\">\n",
       "  <thead>\n",
       "    <tr>\n",
       "      <th>LONG</th>\n",
       "      <th>0.0</th>\n",
       "      <th>1.0</th>\n",
       "    </tr>\n",
       "    <tr>\n",
       "      <th>SHORT</th>\n",
       "      <th>1.0</th>\n",
       "      <th>0.0</th>\n",
       "    </tr>\n",
       "    <tr>\n",
       "      <th>ileus_NPOA</th>\n",
       "      <th></th>\n",
       "      <th></th>\n",
       "    </tr>\n",
       "  </thead>\n",
       "  <tbody>\n",
       "    <tr>\n",
       "      <th>0.0</th>\n",
       "      <td>150233</td>\n",
       "      <td>35873</td>\n",
       "    </tr>\n",
       "    <tr>\n",
       "      <th>1.0</th>\n",
       "      <td>3465</td>\n",
       "      <td>1351</td>\n",
       "    </tr>\n",
       "  </tbody>\n",
       "</table>\n",
       "</div>"
      ],
      "text/plain": [
       "LONG           0.0    1.0\n",
       "SHORT          1.0    0.0\n",
       "ileus_NPOA               \n",
       "0.0         150233  35873\n",
       "1.0           3465   1351"
      ]
     },
     "execution_count": 17,
     "metadata": {},
     "output_type": "execute_result"
    }
   ],
   "source": [
    "ct_LvS = pd.crosstab(CADataSub.ileus_NPOA, [CADataSub.LONG, CADataSub.SHORT]); ct_LvS#just the c"
   ]
  },
  {
   "cell_type": "code",
   "execution_count": 18,
   "metadata": {
    "collapsed": false
   },
   "outputs": [
    {
     "data": {
      "text/html": [
       "<div>\n",
       "<table border=\"1\" class=\"dataframe\">\n",
       "  <thead>\n",
       "    <tr>\n",
       "      <th>LONG</th>\n",
       "      <th>0.0</th>\n",
       "      <th>1.0</th>\n",
       "    </tr>\n",
       "    <tr>\n",
       "      <th>SHORT</th>\n",
       "      <th>1.0</th>\n",
       "      <th>0.0</th>\n",
       "    </tr>\n",
       "    <tr>\n",
       "      <th>ileus_NPOA</th>\n",
       "      <th></th>\n",
       "      <th></th>\n",
       "    </tr>\n",
       "  </thead>\n",
       "  <tbody>\n",
       "    <tr>\n",
       "      <th>0.0</th>\n",
       "      <td>0.977456</td>\n",
       "      <td>0.963706</td>\n",
       "    </tr>\n",
       "    <tr>\n",
       "      <th>1.0</th>\n",
       "      <td>0.022544</td>\n",
       "      <td>0.036294</td>\n",
       "    </tr>\n",
       "  </tbody>\n",
       "</table>\n",
       "</div>"
      ],
      "text/plain": [
       "LONG             0.0       1.0\n",
       "SHORT            1.0       0.0\n",
       "ileus_NPOA                    \n",
       "0.0         0.977456  0.963706\n",
       "1.0         0.022544  0.036294"
      ]
     },
     "execution_count": 18,
     "metadata": {},
     "output_type": "execute_result"
    }
   ],
   "source": [
    "pd.crosstab(CADataSub.ileus_NPOA, [CADataSub.LONG, CADataSub.SHORT]).apply(lambda x: x/x.sum(),0)"
   ]
  },
  {
   "cell_type": "code",
   "execution_count": 19,
   "metadata": {
    "collapsed": false
   },
   "outputs": [
    {
     "data": {
      "text/plain": [
       "'\\nprop.test(c(3465,1351),c(153698,37224),correct=FALSE)\\n\\n\\t2-sample test for equality of proportions without\\n\\tcontinuity correction\\n\\ndata:  c(3465, 1351) out of c(153698, 37224)\\nX-squared = 230.4, df = 1, p-value < 2.2e-16\\nalternative hypothesis: two.sided\\n95 percent confidence interval:\\n -0.01578926 -0.01170990\\nsample estimates:\\n    prop 1     prop 2 \\n0.02254421 0.03629379 \\n'"
      ]
     },
     "execution_count": 19,
     "metadata": {},
     "output_type": "execute_result"
    }
   ],
   "source": [
    "#As before, we implemented the test in R as there doesnt seem to be a reliable package in python. Here are the results:\n",
    "'''\n",
    "prop.test(c(3465,1351),c(153698,37224),correct=FALSE)\n",
    "\n",
    "\t2-sample test for equality of proportions without\n",
    "\tcontinuity correction\n",
    "\n",
    "data:  c(3465, 1351) out of c(153698, 37224)\n",
    "X-squared = 230.4, df = 1, p-value < 2.2e-16\n",
    "alternative hypothesis: two.sided\n",
    "95 percent confidence interval:\n",
    " -0.01578926 -0.01170990\n",
    "sample estimates:\n",
    "    prop 1     prop 2 \n",
    "0.02254421 0.03629379 \n",
    "'''\n",
    "#SIGNIFICANT"
   ]
  },
  {
   "cell_type": "code",
   "execution_count": 20,
   "metadata": {
    "collapsed": false
   },
   "outputs": [
    {
     "data": {
      "text/html": [
       "<div>\n",
       "<table border=\"1\" class=\"dataframe\">\n",
       "  <thead>\n",
       "    <tr style=\"text-align: right;\">\n",
       "      <th>LONG</th>\n",
       "      <th>0.0</th>\n",
       "      <th>1.0</th>\n",
       "    </tr>\n",
       "    <tr>\n",
       "      <th>ileus_NPOA</th>\n",
       "      <th></th>\n",
       "      <th></th>\n",
       "    </tr>\n",
       "  </thead>\n",
       "  <tbody>\n",
       "    <tr>\n",
       "      <th>0.0</th>\n",
       "      <td>150233</td>\n",
       "      <td>35873</td>\n",
       "    </tr>\n",
       "    <tr>\n",
       "      <th>1.0</th>\n",
       "      <td>3465</td>\n",
       "      <td>1351</td>\n",
       "    </tr>\n",
       "  </tbody>\n",
       "</table>\n",
       "</div>"
      ],
      "text/plain": [
       "LONG           0.0    1.0\n",
       "ileus_NPOA               \n",
       "0.0         150233  35873\n",
       "1.0           3465   1351"
      ]
     },
     "execution_count": 20,
     "metadata": {},
     "output_type": "execute_result"
    }
   ],
   "source": [
    "ct_LONG = pd.crosstab(CADataSub.ileus_NPOA, CADataSub.LONG); ct_LONG"
   ]
  },
  {
   "cell_type": "code",
   "execution_count": 21,
   "metadata": {
    "collapsed": false
   },
   "outputs": [
    {
     "name": "stdout",
     "output_type": "stream",
     "text": [
      "Odds ratio:  1.63286301535\n"
     ]
    }
   ],
   "source": [
    "print \"Odds ratio: \", stats.fisher_exact(ct_LONG)[0]"
   ]
  },
  {
   "cell_type": "code",
   "execution_count": 22,
   "metadata": {
    "collapsed": false
   },
   "outputs": [
    {
     "data": {
      "text/html": [
       "<div>\n",
       "<table border=\"1\" class=\"dataframe\">\n",
       "  <thead>\n",
       "    <tr style=\"text-align: right;\">\n",
       "      <th>SHORT</th>\n",
       "      <th>0.0</th>\n",
       "      <th>1.0</th>\n",
       "    </tr>\n",
       "    <tr>\n",
       "      <th>ileus_NPOA</th>\n",
       "      <th></th>\n",
       "      <th></th>\n",
       "    </tr>\n",
       "  </thead>\n",
       "  <tbody>\n",
       "    <tr>\n",
       "      <th>0.0</th>\n",
       "      <td>35873</td>\n",
       "      <td>150233</td>\n",
       "    </tr>\n",
       "    <tr>\n",
       "      <th>1.0</th>\n",
       "      <td>1351</td>\n",
       "      <td>3465</td>\n",
       "    </tr>\n",
       "  </tbody>\n",
       "</table>\n",
       "</div>"
      ],
      "text/plain": [
       "SHORT         0.0     1.0\n",
       "ileus_NPOA               \n",
       "0.0         35873  150233\n",
       "1.0          1351    3465"
      ]
     },
     "execution_count": 22,
     "metadata": {},
     "output_type": "execute_result"
    }
   ],
   "source": [
    "ct_SHORT = pd.crosstab(CADataSub.ileus_NPOA, CADataSub.SHORT); ct_SHORT"
   ]
  },
  {
   "cell_type": "code",
   "execution_count": 23,
   "metadata": {
    "collapsed": false
   },
   "outputs": [
    {
     "name": "stdout",
     "output_type": "stream",
     "text": [
      "Odds ratio:  0.612421244527\n"
     ]
    }
   ],
   "source": [
    "print \"Odds ratio: \", stats.fisher_exact(ct_SHORT)[0]"
   ]
  },
  {
   "cell_type": "markdown",
   "metadata": {},
   "source": [
    "#### 3) Does ILEUS affect LOS?"
   ]
  },
  {
   "cell_type": "code",
   "execution_count": 24,
   "metadata": {
    "collapsed": false
   },
   "outputs": [
    {
     "data": {
      "image/png": "[encoded data removed]",
      "text/plain": [
       "<matplotlib.figure.Figure at 0x1d9dab38>"
      ]
     },
     "metadata": {},
     "output_type": "display_data"
    }
   ],
   "source": [
    "CAData[CAData.ileus_NPOA == 0.].LOS.plot('hist', xlim=(0,50), bins = 100)\n",
    "plt.title('Histogram of LOS when ileus_NPOA = 0'); plt.show()"
   ]
  },
  {
   "cell_type": "code",
   "execution_count": 25,
   "metadata": {
    "collapsed": false
   },
   "outputs": [
    {
     "data": {
      "image/png": "[encoded data removed]",
      "text/plain": [
       "<matplotlib.figure.Figure at 0x1d9da550>"
      ]
     },
     "metadata": {},
     "output_type": "display_data"
    }
   ],
   "source": [
    "CAData[CAData.ileus_NPOA == 1.].LOS.plot('hist', xlim=(0,50), bins = 100) #zooming in to avoid outliers\n",
    "plt.title('Histogram of LOS when ileus_NPOA = 1'); plt.show()"
   ]
  },
  {
   "cell_type": "code",
   "execution_count": 26,
   "metadata": {
    "collapsed": false
   },
   "outputs": [
    {
     "name": "stdout",
     "output_type": "stream",
     "text": [
      "The median LOS of ileus_NPOA = 0 is  3.0\n",
      "The median LOS of ileus_NPOA = 1 is  6.0\n"
     ]
    }
   ],
   "source": [
    "group1_LOS =  CAData[CAData.ileus_NPOA == 0.].LOS\n",
    "group2_LOS =  CAData[CAData.ileus_NPOA == 1.].LOS\n",
    "print \"The median LOS of ileus_NPOA = 0 is \", group1_LOS.median()\n",
    "print \"The median LOS of ileus_NPOA = 1 is \", group2_LOS.median()"
   ]
  },
  {
   "cell_type": "code",
   "execution_count": 27,
   "metadata": {
    "collapsed": false
   },
   "outputs": [
    {
     "name": "stdout",
     "output_type": "stream",
     "text": [
      "The mean LOS of ileus_NPOA = 0 is  4.7678867907\n",
      "The mean LOS of ileus_NPOA = 1 is  9.73878729548\n"
     ]
    }
   ],
   "source": [
    "group1_LOS =  CAData[CAData.ileus_NPOA == 0.].LOS\n",
    "group2_LOS =  CAData[CAData.ileus_NPOA == 1.].LOS\n",
    "print \"The mean LOS of ileus_NPOA = 0 is \", group1_LOS.mean()\n",
    "print \"The mean LOS of ileus_NPOA = 1 is \", group2_LOS.mean()"
   ]
  },
  {
   "cell_type": "code",
   "execution_count": 28,
   "metadata": {
    "collapsed": false
   },
   "outputs": [
    {
     "name": "stdout",
     "output_type": "stream",
     "text": [
      "p-value:  0.0\n"
     ]
    }
   ],
   "source": [
    "#Are hospital stays for those w/ ilesuses longer?\n",
    "#Using the Wilcox rank-sum statistic (link: http://docs.scipy.org/doc/scipy/reference/generated/scipy.stats.ranksums.html)\n",
    "z_stat, p_val = stats.ranksums(group1_LOS, group2_LOS)\n",
    "print \"p-value: \", p_val  #Test is significant --> The LOS of the ILEUS group is higher than the non-ILEUS group"
   ]
  },
  {
   "cell_type": "code",
   "execution_count": 29,
   "metadata": {
    "collapsed": false
   },
   "outputs": [
    {
     "name": "stderr",
     "output_type": "stream",
     "text": [
      "C:\\Anaconda2\\lib\\site-packages\\ipykernel\\__main__.py:3: SettingWithCopyWarning: \n",
      "A value is trying to be set on a copy of a slice from a DataFrame.\n",
      "Try using .loc[row_indexer,col_indexer] = value instead\n",
      "\n",
      "See the caveats in the documentation: http://pandas.pydata.org/pandas-docs/stable/indexing.html#indexing-view-versus-copy\n",
      "  app.launch_new_instance()\n"
     ]
    },
    {
     "data": {
      "image/png": "[encoded data removed]",
      "text/plain": [
       "<matplotlib.figure.Figure at 0xc8a7080>"
      ]
     },
     "metadata": {},
     "output_type": "display_data"
    }
   ],
   "source": [
    "#Log transform the data and perform a t-test\n",
    "CAData_ileusLOS = CAData[['ileus_NPOA', 'LOS']]\n",
    "CAData_ileusLOS['LOS_log'] = np.log(CAData_ileusLOS['LOS']+1)\n",
    "\n",
    "CAData_ileusLOS[CAData_ileusLOS.ileus_NPOA == 1.].LOS_log.plot('hist', xlim=(0,10), bins = 50) #zooming in to avoid outliers\n",
    "plt.title('Histogram of LOS when ileus_NPOA = 1'); plt.show()"
   ]
  },
  {
   "cell_type": "code",
   "execution_count": 30,
   "metadata": {
    "collapsed": false
   },
   "outputs": [
    {
     "name": "stdout",
     "output_type": "stream",
     "text": [
      "P-value: 0.0000000000000000000000000000000000000000000000000000000000000000000000000000000000000000000000000000\n"
     ]
    }
   ],
   "source": [
    "#Do a t-test\n",
    "\n",
    "from scipy.stats import ttest_ind\n",
    "\n",
    "group1_LOS_log = np.array(CAData_ileusLOS[CAData_ileusLOS.ileus_NPOA == 0.].LOS_log)\n",
    "group2_LOS_log = np.array(CAData_ileusLOS[CAData_ileusLOS.ileus_NPOA == 1.].LOS_log)\n",
    "\n",
    "stat, pvalue = ttest_ind(group1_LOS_log, group2_LOS_log)\n",
    "\n",
    "print(\"P-value: %.100f\" % pvalue)"
   ]
  },
  {
   "cell_type": "code",
   "execution_count": 31,
   "metadata": {
    "collapsed": false
   },
   "outputs": [
    {
     "data": {
      "text/plain": [
       "Ttest_indResult(statistic=-71.455175795502726, pvalue=0.0)"
      ]
     },
     "execution_count": 31,
     "metadata": {},
     "output_type": "execute_result"
    }
   ],
   "source": [
    "stats.ttest_ind(group1_LOS_log, group2_LOS_log)"
   ]
  },
  {
   "cell_type": "code",
   "execution_count": 32,
   "metadata": {
    "collapsed": false
   },
   "outputs": [
    {
     "data": {
      "text/html": [
       "<div>\n",
       "<table border=\"1\" class=\"dataframe\">\n",
       "  <thead>\n",
       "    <tr style=\"text-align: right;\">\n",
       "      <th></th>\n",
       "      <th>ileus_NPOA</th>\n",
       "      <th>LOS</th>\n",
       "      <th>LOS_log</th>\n",
       "    </tr>\n",
       "  </thead>\n",
       "  <tbody>\n",
       "    <tr>\n",
       "      <th>0</th>\n",
       "      <td>0.0</td>\n",
       "      <td>15.0</td>\n",
       "      <td>2.772589</td>\n",
       "    </tr>\n",
       "    <tr>\n",
       "      <th>1</th>\n",
       "      <td>0.0</td>\n",
       "      <td>16.0</td>\n",
       "      <td>2.833213</td>\n",
       "    </tr>\n",
       "    <tr>\n",
       "      <th>2</th>\n",
       "      <td>0.0</td>\n",
       "      <td>18.0</td>\n",
       "      <td>2.944439</td>\n",
       "    </tr>\n",
       "    <tr>\n",
       "      <th>3</th>\n",
       "      <td>0.0</td>\n",
       "      <td>8.0</td>\n",
       "      <td>2.197225</td>\n",
       "    </tr>\n",
       "    <tr>\n",
       "      <th>4</th>\n",
       "      <td>0.0</td>\n",
       "      <td>44.0</td>\n",
       "      <td>3.806662</td>\n",
       "    </tr>\n",
       "    <tr>\n",
       "      <th>5</th>\n",
       "      <td>0.0</td>\n",
       "      <td>10.0</td>\n",
       "      <td>2.397895</td>\n",
       "    </tr>\n",
       "    <tr>\n",
       "      <th>6</th>\n",
       "      <td>0.0</td>\n",
       "      <td>6.0</td>\n",
       "      <td>1.945910</td>\n",
       "    </tr>\n",
       "    <tr>\n",
       "      <th>7</th>\n",
       "      <td>0.0</td>\n",
       "      <td>6.0</td>\n",
       "      <td>1.945910</td>\n",
       "    </tr>\n",
       "    <tr>\n",
       "      <th>8</th>\n",
       "      <td>0.0</td>\n",
       "      <td>26.0</td>\n",
       "      <td>3.295837</td>\n",
       "    </tr>\n",
       "    <tr>\n",
       "      <th>9</th>\n",
       "      <td>0.0</td>\n",
       "      <td>11.0</td>\n",
       "      <td>2.484907</td>\n",
       "    </tr>\n",
       "  </tbody>\n",
       "</table>\n",
       "</div>"
      ],
      "text/plain": [
       "   ileus_NPOA   LOS   LOS_log\n",
       "0         0.0  15.0  2.772589\n",
       "1         0.0  16.0  2.833213\n",
       "2         0.0  18.0  2.944439\n",
       "3         0.0   8.0  2.197225\n",
       "4         0.0  44.0  3.806662\n",
       "5         0.0  10.0  2.397895\n",
       "6         0.0   6.0  1.945910\n",
       "7         0.0   6.0  1.945910\n",
       "8         0.0  26.0  3.295837\n",
       "9         0.0  11.0  2.484907"
      ]
     },
     "execution_count": 32,
     "metadata": {},
     "output_type": "execute_result"
    }
   ],
   "source": [
    "CAData_ileusLOS.head(10)"
   ]
  },
  {
   "cell_type": "markdown",
   "metadata": {},
   "source": [
    "#### 4) Does ILEUS affect death?"
   ]
  },
  {
   "cell_type": "code",
   "execution_count": 33,
   "metadata": {
    "collapsed": false
   },
   "outputs": [
    {
     "data": {
      "text/html": [
       "<div>\n",
       "<table border=\"1\" class=\"dataframe\">\n",
       "  <thead>\n",
       "    <tr style=\"text-align: right;\">\n",
       "      <th>ileus_NPOA</th>\n",
       "      <th>0.0</th>\n",
       "      <th>1.0</th>\n",
       "    </tr>\n",
       "    <tr>\n",
       "      <th>DIED</th>\n",
       "      <th></th>\n",
       "      <th></th>\n",
       "    </tr>\n",
       "  </thead>\n",
       "  <tbody>\n",
       "    <tr>\n",
       "      <th>0.0</th>\n",
       "      <td>192640</td>\n",
       "      <td>5137</td>\n",
       "    </tr>\n",
       "    <tr>\n",
       "      <th>1.0</th>\n",
       "      <td>701</td>\n",
       "      <td>58</td>\n",
       "    </tr>\n",
       "  </tbody>\n",
       "</table>\n",
       "</div>"
      ],
      "text/plain": [
       "ileus_NPOA     0.0   1.0\n",
       "DIED                    \n",
       "0.0         192640  5137\n",
       "1.0            701    58"
      ]
     },
     "execution_count": 33,
     "metadata": {},
     "output_type": "execute_result"
    }
   ],
   "source": [
    "ct_DIED = pd.crosstab(CAData.DIED, CAData.ileus_NPOA); ct_DIED#just the counts"
   ]
  },
  {
   "cell_type": "code",
   "execution_count": 34,
   "metadata": {
    "collapsed": false
   },
   "outputs": [
    {
     "data": {
      "text/html": [
       "<div>\n",
       "<table border=\"1\" class=\"dataframe\">\n",
       "  <thead>\n",
       "    <tr style=\"text-align: right;\">\n",
       "      <th>ileus_NPOA</th>\n",
       "      <th>0.0</th>\n",
       "      <th>1.0</th>\n",
       "    </tr>\n",
       "    <tr>\n",
       "      <th>DIED</th>\n",
       "      <th></th>\n",
       "      <th></th>\n",
       "    </tr>\n",
       "  </thead>\n",
       "  <tbody>\n",
       "    <tr>\n",
       "      <th>0.0</th>\n",
       "      <td>0.996374</td>\n",
       "      <td>0.988835</td>\n",
       "    </tr>\n",
       "    <tr>\n",
       "      <th>1.0</th>\n",
       "      <td>0.003626</td>\n",
       "      <td>0.011165</td>\n",
       "    </tr>\n",
       "  </tbody>\n",
       "</table>\n",
       "</div>"
      ],
      "text/plain": [
       "ileus_NPOA       0.0       1.0\n",
       "DIED                          \n",
       "0.0         0.996374  0.988835\n",
       "1.0         0.003626  0.011165"
      ]
     },
     "execution_count": 34,
     "metadata": {},
     "output_type": "execute_result"
    }
   ],
   "source": [
    "pd.crosstab(CAData.DIED, CAData.ileus_NPOA).apply(lambda x: x/x.sum(),0)"
   ]
  },
  {
   "cell_type": "code",
   "execution_count": 35,
   "metadata": {
    "collapsed": false
   },
   "outputs": [
    {
     "data": {
      "text/plain": [
       "'\\nprop.test(c(701,58),c(193341,5195),correct=FALSE)\\n\\n\\t2-sample test for equality of proportions without\\n\\tcontinuity correction\\n\\ndata:  c(701, 58) out of c(193341, 5195)\\nX-squared = 75.499, df = 1, p-value < 2.2e-16\\nalternative hypothesis: two.sided\\n95 percent confidence interval:\\n -0.010408583 -0.004669143\\nsample estimates:\\n     prop 1      prop 2 \\n0.003625718 0.011164581 \\n'"
      ]
     },
     "execution_count": 35,
     "metadata": {},
     "output_type": "execute_result"
    }
   ],
   "source": [
    "#As before, we implemented the test in R as there doesnt seem to be a reliable package in python. Here are the results:\n",
    "'''\n",
    "prop.test(c(701,58),c(193341,5195),correct=FALSE)\n",
    "\n",
    "\t2-sample test for equality of proportions without\n",
    "\tcontinuity correction\n",
    "\n",
    "data:  c(701, 58) out of c(193341, 5195)\n",
    "X-squared = 75.499, df = 1, p-value < 2.2e-16\n",
    "alternative hypothesis: two.sided\n",
    "95 percent confidence interval:\n",
    " -0.010408583 -0.004669143\n",
    "sample estimates:\n",
    "     prop 1      prop 2 \n",
    "0.003625718 0.011164581 \n",
    "'''\n",
    "#SIGNIFICANT"
   ]
  },
  {
   "cell_type": "code",
   "execution_count": 36,
   "metadata": {
    "collapsed": false
   },
   "outputs": [
    {
     "name": "stdout",
     "output_type": "stream",
     "text": [
      "Odds ratio:  3.10275067987\n"
     ]
    }
   ],
   "source": [
    "print \"Odds ratio: \", stats.fisher_exact(ct_DIED)[0]"
   ]
  },
  {
   "cell_type": "markdown",
   "metadata": {},
   "source": [
    "#### 5) Does ILEUS affect DVT?"
   ]
  },
  {
   "cell_type": "code",
   "execution_count": 37,
   "metadata": {
    "collapsed": false
   },
   "outputs": [
    {
     "data": {
      "text/html": [
       "<div>\n",
       "<table border=\"1\" class=\"dataframe\">\n",
       "  <thead>\n",
       "    <tr style=\"text-align: right;\">\n",
       "      <th>ileus_NPOA</th>\n",
       "      <th>0.0</th>\n",
       "      <th>1.0</th>\n",
       "    </tr>\n",
       "    <tr>\n",
       "      <th>DVT_NPOA</th>\n",
       "      <th></th>\n",
       "      <th></th>\n",
       "    </tr>\n",
       "  </thead>\n",
       "  <tbody>\n",
       "    <tr>\n",
       "      <th>0.0</th>\n",
       "      <td>192721</td>\n",
       "      <td>5098</td>\n",
       "    </tr>\n",
       "    <tr>\n",
       "      <th>1.0</th>\n",
       "      <td>620</td>\n",
       "      <td>97</td>\n",
       "    </tr>\n",
       "  </tbody>\n",
       "</table>\n",
       "</div>"
      ],
      "text/plain": [
       "ileus_NPOA     0.0   1.0\n",
       "DVT_NPOA                \n",
       "0.0         192721  5098\n",
       "1.0            620    97"
      ]
     },
     "execution_count": 37,
     "metadata": {},
     "output_type": "execute_result"
    }
   ],
   "source": [
    "ct_dvt = pd.crosstab(CAData.DVT_NPOA, CAData.ileus_NPOA); ct_dvt"
   ]
  },
  {
   "cell_type": "code",
   "execution_count": 38,
   "metadata": {
    "collapsed": false
   },
   "outputs": [
    {
     "data": {
      "text/html": [
       "<div>\n",
       "<table border=\"1\" class=\"dataframe\">\n",
       "  <thead>\n",
       "    <tr style=\"text-align: right;\">\n",
       "      <th>ileus_NPOA</th>\n",
       "      <th>0.0</th>\n",
       "      <th>1.0</th>\n",
       "    </tr>\n",
       "    <tr>\n",
       "      <th>DVT_NPOA</th>\n",
       "      <th></th>\n",
       "      <th></th>\n",
       "    </tr>\n",
       "  </thead>\n",
       "  <tbody>\n",
       "    <tr>\n",
       "      <th>0.0</th>\n",
       "      <td>0.996793</td>\n",
       "      <td>0.981328</td>\n",
       "    </tr>\n",
       "    <tr>\n",
       "      <th>1.0</th>\n",
       "      <td>0.003207</td>\n",
       "      <td>0.018672</td>\n",
       "    </tr>\n",
       "  </tbody>\n",
       "</table>\n",
       "</div>"
      ],
      "text/plain": [
       "ileus_NPOA       0.0       1.0\n",
       "DVT_NPOA                      \n",
       "0.0         0.996793  0.981328\n",
       "1.0         0.003207  0.018672"
      ]
     },
     "execution_count": 38,
     "metadata": {},
     "output_type": "execute_result"
    }
   ],
   "source": [
    "#Look at proportions: did people who developed ileuses also develop DVT?\n",
    "ct_dvt.apply(lambda x: x/x.sum(), 0)"
   ]
  },
  {
   "cell_type": "code",
   "execution_count": 39,
   "metadata": {
    "collapsed": false
   },
   "outputs": [
    {
     "data": {
      "text/plain": [
       "'\\nprop.test(c(620,97),c(193341, 5292),correct=FALSE)\\n\\n\\t2-sample test for equality of proportions without\\n\\tcontinuity correction\\n\\ndata:  c(620, 97) out of c(193341, 5292)\\nX-squared = 327.54, df = 1, p-value < 2.2e-16\\nalternative hypothesis: two.sided\\n95 percent confidence interval:\\n -0.01874563 -0.01149994\\nsample estimates:\\n     prop 1      prop 2 \\n0.003206769 0.018329554 \\n'"
      ]
     },
     "execution_count": 39,
     "metadata": {},
     "output_type": "execute_result"
    }
   ],
   "source": [
    "#As before, we implemented the test in R as there doesnt seem to be a reliable package in python. Here are the results:\n",
    "'''\n",
    "prop.test(c(620,97),c(193341, 5292),correct=FALSE)\n",
    "\n",
    "\t2-sample test for equality of proportions without\n",
    "\tcontinuity correction\n",
    "\n",
    "data:  c(620, 97) out of c(193341, 5292)\n",
    "X-squared = 327.54, df = 1, p-value < 2.2e-16\n",
    "alternative hypothesis: two.sided\n",
    "95 percent confidence interval:\n",
    " -0.01874563 -0.01149994\n",
    "sample estimates:\n",
    "     prop 1      prop 2 \n",
    "0.003206769 0.018329554 \n",
    "'''\n",
    "#SIGNIFICANT"
   ]
  },
  {
   "cell_type": "code",
   "execution_count": 40,
   "metadata": {
    "collapsed": false
   },
   "outputs": [
    {
     "name": "stdout",
     "output_type": "stream",
     "text": [
      "Odds ratio:  5.91438040218\n"
     ]
    }
   ],
   "source": [
    "print \"Odds ratio: \", stats.fisher_exact(ct_dvt)[0]"
   ]
  },
  {
   "cell_type": "markdown",
   "metadata": {},
   "source": [
    "#### 6) Does ILEUS affect MI (heart attack)?"
   ]
  },
  {
   "cell_type": "code",
   "execution_count": 41,
   "metadata": {
    "collapsed": false
   },
   "outputs": [
    {
     "data": {
      "text/html": [
       "<div>\n",
       "<table border=\"1\" class=\"dataframe\">\n",
       "  <thead>\n",
       "    <tr style=\"text-align: right;\">\n",
       "      <th>ileus_NPOA</th>\n",
       "      <th>0.0</th>\n",
       "      <th>1.0</th>\n",
       "    </tr>\n",
       "    <tr>\n",
       "      <th>MI_NPOA</th>\n",
       "      <th></th>\n",
       "      <th></th>\n",
       "    </tr>\n",
       "  </thead>\n",
       "  <tbody>\n",
       "    <tr>\n",
       "      <th>0.0</th>\n",
       "      <td>192823</td>\n",
       "      <td>5164</td>\n",
       "    </tr>\n",
       "    <tr>\n",
       "      <th>1.0</th>\n",
       "      <td>518</td>\n",
       "      <td>31</td>\n",
       "    </tr>\n",
       "  </tbody>\n",
       "</table>\n",
       "</div>"
      ],
      "text/plain": [
       "ileus_NPOA     0.0   1.0\n",
       "MI_NPOA                 \n",
       "0.0         192823  5164\n",
       "1.0            518    31"
      ]
     },
     "execution_count": 41,
     "metadata": {},
     "output_type": "execute_result"
    }
   ],
   "source": [
    "ct_mi = pd.crosstab(CAData.MI_NPOA, CAData.ileus_NPOA); ct_mi"
   ]
  },
  {
   "cell_type": "code",
   "execution_count": 42,
   "metadata": {
    "collapsed": false
   },
   "outputs": [
    {
     "data": {
      "text/html": [
       "<div>\n",
       "<table border=\"1\" class=\"dataframe\">\n",
       "  <thead>\n",
       "    <tr style=\"text-align: right;\">\n",
       "      <th>ileus_NPOA</th>\n",
       "      <th>0.0</th>\n",
       "      <th>1.0</th>\n",
       "    </tr>\n",
       "    <tr>\n",
       "      <th>MI_NPOA</th>\n",
       "      <th></th>\n",
       "      <th></th>\n",
       "    </tr>\n",
       "  </thead>\n",
       "  <tbody>\n",
       "    <tr>\n",
       "      <th>0.0</th>\n",
       "      <td>0.997321</td>\n",
       "      <td>0.994033</td>\n",
       "    </tr>\n",
       "    <tr>\n",
       "      <th>1.0</th>\n",
       "      <td>0.002679</td>\n",
       "      <td>0.005967</td>\n",
       "    </tr>\n",
       "  </tbody>\n",
       "</table>\n",
       "</div>"
      ],
      "text/plain": [
       "ileus_NPOA       0.0       1.0\n",
       "MI_NPOA                       \n",
       "0.0         0.997321  0.994033\n",
       "1.0         0.002679  0.005967"
      ]
     },
     "execution_count": 42,
     "metadata": {},
     "output_type": "execute_result"
    }
   ],
   "source": [
    "ct_mi.apply(lambda x: x/x.sum(), 0)"
   ]
  },
  {
   "cell_type": "code",
   "execution_count": 43,
   "metadata": {
    "collapsed": false
   },
   "outputs": [
    {
     "data": {
      "text/plain": [
       "'\\nprop.test(c(518,31),c(193341, 5195),correct=FALSE)\\n\\n\\t2-sample test for equality of proportions without\\n\\tcontinuity correction\\n\\ndata:  c(518, 31) out of c(193341, 5195)\\nX-squared = 19.835, df = 1, p-value = 8.444e-06\\nalternative hypothesis: two.sided\\n95 percent confidence interval:\\n -0.005395032 -0.001181112\\nsample estimates:\\n     prop 1      prop 2 \\n0.002679204 0.005967276 \\n'"
      ]
     },
     "execution_count": 43,
     "metadata": {},
     "output_type": "execute_result"
    }
   ],
   "source": [
    "#As before, we implemented the test in R as there doesnt seem to be a reliable package in python. Here are the results:\n",
    "'''\n",
    "prop.test(c(518,31),c(193341, 5195),correct=FALSE)\n",
    "\n",
    "\t2-sample test for equality of proportions without\n",
    "\tcontinuity correction\n",
    "\n",
    "data:  c(518, 31) out of c(193341, 5195)\n",
    "X-squared = 19.835, df = 1, p-value = 8.444e-06\n",
    "alternative hypothesis: two.sided\n",
    "95 percent confidence interval:\n",
    " -0.005395032 -0.001181112\n",
    "sample estimates:\n",
    "     prop 1      prop 2 \n",
    "0.002679204 0.005967276 \n",
    "'''\n",
    "# IMPORTANT: Since the difference is so small, eventhough, we have a significant result, it is better to be conservative\n",
    "# and mention that this result is not useful\n"
   ]
  },
  {
   "cell_type": "code",
   "execution_count": 44,
   "metadata": {
    "collapsed": false
   },
   "outputs": [
    {
     "name": "stdout",
     "output_type": "stream",
     "text": [
      "Odds ratio:  2.234624397\n"
     ]
    }
   ],
   "source": [
    "print \"Odds ratio: \", stats.fisher_exact(ct_mi)[0]"
   ]
  },
  {
   "cell_type": "markdown",
   "metadata": {},
   "source": [
    "#### 7) Does ILEUS affect sepsis?"
   ]
  },
  {
   "cell_type": "code",
   "execution_count": 45,
   "metadata": {
    "collapsed": false
   },
   "outputs": [
    {
     "data": {
      "text/html": [
       "<div>\n",
       "<table border=\"1\" class=\"dataframe\">\n",
       "  <thead>\n",
       "    <tr style=\"text-align: right;\">\n",
       "      <th>ileus_NPOA</th>\n",
       "      <th>0.0</th>\n",
       "      <th>1.0</th>\n",
       "    </tr>\n",
       "    <tr>\n",
       "      <th>Sepsis_NPOA</th>\n",
       "      <th></th>\n",
       "      <th></th>\n",
       "    </tr>\n",
       "  </thead>\n",
       "  <tbody>\n",
       "    <tr>\n",
       "      <th>0.0</th>\n",
       "      <td>192435</td>\n",
       "      <td>5054</td>\n",
       "    </tr>\n",
       "    <tr>\n",
       "      <th>1.0</th>\n",
       "      <td>906</td>\n",
       "      <td>141</td>\n",
       "    </tr>\n",
       "  </tbody>\n",
       "</table>\n",
       "</div>"
      ],
      "text/plain": [
       "ileus_NPOA      0.0   1.0\n",
       "Sepsis_NPOA              \n",
       "0.0          192435  5054\n",
       "1.0             906   141"
      ]
     },
     "execution_count": 45,
     "metadata": {},
     "output_type": "execute_result"
    }
   ],
   "source": [
    "ct_sepsis = pd.crosstab(CAData.Sepsis_NPOA, CAData.ileus_NPOA); ct_sepsis"
   ]
  },
  {
   "cell_type": "code",
   "execution_count": 46,
   "metadata": {
    "collapsed": false
   },
   "outputs": [
    {
     "data": {
      "text/html": [
       "<div>\n",
       "<table border=\"1\" class=\"dataframe\">\n",
       "  <thead>\n",
       "    <tr style=\"text-align: right;\">\n",
       "      <th>ileus_NPOA</th>\n",
       "      <th>0.0</th>\n",
       "      <th>1.0</th>\n",
       "    </tr>\n",
       "    <tr>\n",
       "      <th>Sepsis_NPOA</th>\n",
       "      <th></th>\n",
       "      <th></th>\n",
       "    </tr>\n",
       "  </thead>\n",
       "  <tbody>\n",
       "    <tr>\n",
       "      <th>0.0</th>\n",
       "      <td>0.995314</td>\n",
       "      <td>0.972859</td>\n",
       "    </tr>\n",
       "    <tr>\n",
       "      <th>1.0</th>\n",
       "      <td>0.004686</td>\n",
       "      <td>0.027141</td>\n",
       "    </tr>\n",
       "  </tbody>\n",
       "</table>\n",
       "</div>"
      ],
      "text/plain": [
       "ileus_NPOA        0.0       1.0\n",
       "Sepsis_NPOA                    \n",
       "0.0          0.995314  0.972859\n",
       "1.0          0.004686  0.027141"
      ]
     },
     "execution_count": 46,
     "metadata": {},
     "output_type": "execute_result"
    }
   ],
   "source": [
    "ct_sepsis.apply(lambda x: x/x.sum(), 0)"
   ]
  },
  {
   "cell_type": "code",
   "execution_count": 47,
   "metadata": {
    "collapsed": false
   },
   "outputs": [
    {
     "data": {
      "text/plain": [
       "'\\nprop.test(c(906,141),c(193341, 5195),correct=FALSE)\\n\\n\\t2-sample test for equality of proportions without\\n\\tcontinuity correction\\n\\ndata:  c(906, 141) out of c(193341, 5195)\\nX-squared = 486.3, df = 1, p-value < 2.2e-16\\nalternative hypothesis: two.sided\\n95 percent confidence interval:\\n -0.02688466 -0.01802626\\nsample estimates:\\n     prop 1      prop 2 \\n0.004686021 0.027141482 \\n'"
      ]
     },
     "execution_count": 47,
     "metadata": {},
     "output_type": "execute_result"
    }
   ],
   "source": [
    "#As before, we implemented the test in R as there doesnt seem to be a reliable package in python. Here are the results:\n",
    "'''\n",
    "prop.test(c(906,141),c(193341, 5195),correct=FALSE)\n",
    "\n",
    "\t2-sample test for equality of proportions without\n",
    "\tcontinuity correction\n",
    "\n",
    "data:  c(906, 141) out of c(193341, 5195)\n",
    "X-squared = 486.3, df = 1, p-value < 2.2e-16\n",
    "alternative hypothesis: two.sided\n",
    "95 percent confidence interval:\n",
    " -0.02688466 -0.01802626\n",
    "sample estimates:\n",
    "     prop 1      prop 2 \n",
    "0.004686021 0.027141482 \n",
    "'''\n",
    "#SIGNIFICANT"
   ]
  },
  {
   "cell_type": "code",
   "execution_count": 48,
   "metadata": {
    "collapsed": false
   },
   "outputs": [
    {
     "name": "stdout",
     "output_type": "stream",
     "text": [
      "Odds ratio:  5.92570110358\n"
     ]
    }
   ],
   "source": [
    "print \"Odds ratio: \", stats.fisher_exact(ct_sepsis)[0]"
   ]
  }
 ],
 "metadata": {
  "kernelspec": {
   "display_name": "Python 2",
   "language": "python",
   "name": "python2"
  },
  "language_info": {
   "codemirror_mode": {
    "name": "ipython",
    "version": 2
   },
   "file_extension": ".py",
   "mimetype": "text/x-python",
   "name": "python",
   "nbconvert_exporter": "python",
   "pygments_lexer": "ipython2",
   "version": "2.7.11"
  }
 },
 "nbformat": 4,
 "nbformat_minor": 0
}
