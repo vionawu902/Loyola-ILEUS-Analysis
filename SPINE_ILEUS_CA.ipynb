{
 "cells": [
  {
   "cell_type": "code",
   "execution_count": 1,
   "metadata": {
    "collapsed": false
   },
   "outputs": [],
   "source": [
    "import os\n",
    "import numpy as np\n",
    "import pandas as pd\n",
    "import matplotlib.pyplot as plt\n",
    "from statsmodels.stats import proportion\n",
    "from scipy import stats\n",
    "%matplotlib inline\n",
    "os.chdir('/Users/YuChen/Desktop/loyola') # for mac \n",
    "#os.chdir('C:\\\\Users\\\\YuChen\\\\Desktop\\\\loyola') for windows"
   ]
  },
  {
   "cell_type": "code",
   "execution_count": 2,
   "metadata": {
    "collapsed": false
   },
   "outputs": [],
   "source": [
    "CAData = pd.read_stata('SPINE_ILEUS_CA_REVISED.dta')"
   ]
  },
  {
   "cell_type": "markdown",
   "metadata": {
    "collapsed": true
   },
   "source": [
    "## Reading the data"
   ]
  },
  {
   "cell_type": "code",
   "execution_count": 3,
   "metadata": {
    "collapsed": false
   },
   "outputs": [],
   "source": [
    "varLst = ['ACDF','CLAM','SHORT','LONG','ALIF','PLIF','LOS','COMBINED','COMBINED_SHORT','COMBINED_LONG',\n",
    "          'ileus_NPOA','SHORT_ILEUS',\n",
    "          'LONG_ILEUS','ALIF_ILEUS','PLIF_ILEUS', 'DIED', 'MI_NPOA',\n",
    "           'Sepsis_NPOA', 'PE_NPOA','ACDF_ILEUS','CLAM_ILEUS','COMBINED_ILEUS','COMBINED_SHORT_ILEUS','COMBINED_LONG_ILEUS']\n",
    "\n",
    "CAData = pd.read_stata('SPINE_ILEUS_CA_REVISED.dta', columns=varLst)"
   ]
  },
  {
   "cell_type": "code",
   "execution_count": 4,
   "metadata": {
    "collapsed": false
   },
   "outputs": [
    {
     "data": {
      "text/html": [
       "<div>\n",
       "<table border=\"1\" class=\"dataframe\">\n",
       "  <thead>\n",
       "    <tr style=\"text-align: right;\">\n",
       "      <th></th>\n",
       "      <th>ACDF</th>\n",
       "      <th>CLAM</th>\n",
       "      <th>SHORT</th>\n",
       "      <th>LONG</th>\n",
       "      <th>ALIF</th>\n",
       "      <th>PLIF</th>\n",
       "      <th>LOS</th>\n",
       "      <th>COMBINED</th>\n",
       "      <th>COMBINED_SHORT</th>\n",
       "      <th>COMBINED_LONG</th>\n",
       "      <th>...</th>\n",
       "      <th>PLIF_ILEUS</th>\n",
       "      <th>DIED</th>\n",
       "      <th>MI_NPOA</th>\n",
       "      <th>Sepsis_NPOA</th>\n",
       "      <th>PE_NPOA</th>\n",
       "      <th>ACDF_ILEUS</th>\n",
       "      <th>CLAM_ILEUS</th>\n",
       "      <th>COMBINED_ILEUS</th>\n",
       "      <th>COMBINED_SHORT_ILEUS</th>\n",
       "      <th>COMBINED_LONG_ILEUS</th>\n",
       "    </tr>\n",
       "  </thead>\n",
       "  <tbody>\n",
       "    <tr>\n",
       "      <th>count</th>\n",
       "      <td>345067.000000</td>\n",
       "      <td>345067.000000</td>\n",
       "      <td>345067.000000</td>\n",
       "      <td>345067.000000</td>\n",
       "      <td>345067.000000</td>\n",
       "      <td>345067.000000</td>\n",
       "      <td>345010.000000</td>\n",
       "      <td>345067.000000</td>\n",
       "      <td>345067.000000</td>\n",
       "      <td>345067.000000</td>\n",
       "      <td>...</td>\n",
       "      <td>345067.000000</td>\n",
       "      <td>345045.000000</td>\n",
       "      <td>345067.000000</td>\n",
       "      <td>345067.000000</td>\n",
       "      <td>345067.0</td>\n",
       "      <td>345067.000000</td>\n",
       "      <td>345067.000000</td>\n",
       "      <td>345067.000000</td>\n",
       "      <td>345067.000000</td>\n",
       "      <td>345067.000000</td>\n",
       "    </tr>\n",
       "    <tr>\n",
       "      <th>mean</th>\n",
       "      <td>0.195733</td>\n",
       "      <td>0.043823</td>\n",
       "      <td>0.459282</td>\n",
       "      <td>0.121730</td>\n",
       "      <td>0.084940</td>\n",
       "      <td>0.061374</td>\n",
       "      <td>7.709695</td>\n",
       "      <td>0.010923</td>\n",
       "      <td>0.074049</td>\n",
       "      <td>0.014551</td>\n",
       "      <td>...</td>\n",
       "      <td>0.002292</td>\n",
       "      <td>0.033816</td>\n",
       "      <td>0.008416</td>\n",
       "      <td>0.044522</td>\n",
       "      <td>0.0</td>\n",
       "      <td>0.000606</td>\n",
       "      <td>0.000484</td>\n",
       "      <td>0.001078</td>\n",
       "      <td>0.005373</td>\n",
       "      <td>0.001837</td>\n",
       "    </tr>\n",
       "    <tr>\n",
       "      <th>std</th>\n",
       "      <td>0.397012</td>\n",
       "      <td>0.204741</td>\n",
       "      <td>0.498372</td>\n",
       "      <td>0.327466</td>\n",
       "      <td>0.279424</td>\n",
       "      <td>0.240172</td>\n",
       "      <td>79.797306</td>\n",
       "      <td>0.103546</td>\n",
       "      <td>0.262318</td>\n",
       "      <td>0.119164</td>\n",
       "      <td>...</td>\n",
       "      <td>0.047785</td>\n",
       "      <td>0.193980</td>\n",
       "      <td>0.091449</td>\n",
       "      <td>0.206195</td>\n",
       "      <td>0.0</td>\n",
       "      <td>0.024598</td>\n",
       "      <td>0.021989</td>\n",
       "      <td>0.032803</td>\n",
       "      <td>0.072964</td>\n",
       "      <td>0.042796</td>\n",
       "    </tr>\n",
       "    <tr>\n",
       "      <th>min</th>\n",
       "      <td>0.000000</td>\n",
       "      <td>0.000000</td>\n",
       "      <td>0.000000</td>\n",
       "      <td>0.000000</td>\n",
       "      <td>0.000000</td>\n",
       "      <td>0.000000</td>\n",
       "      <td>-6666.000000</td>\n",
       "      <td>0.000000</td>\n",
       "      <td>0.000000</td>\n",
       "      <td>0.000000</td>\n",
       "      <td>...</td>\n",
       "      <td>0.000000</td>\n",
       "      <td>-9.000000</td>\n",
       "      <td>0.000000</td>\n",
       "      <td>0.000000</td>\n",
       "      <td>0.0</td>\n",
       "      <td>0.000000</td>\n",
       "      <td>0.000000</td>\n",
       "      <td>0.000000</td>\n",
       "      <td>0.000000</td>\n",
       "      <td>0.000000</td>\n",
       "    </tr>\n",
       "    <tr>\n",
       "      <th>25%</th>\n",
       "      <td>0.000000</td>\n",
       "      <td>0.000000</td>\n",
       "      <td>0.000000</td>\n",
       "      <td>0.000000</td>\n",
       "      <td>0.000000</td>\n",
       "      <td>0.000000</td>\n",
       "      <td>3.000000</td>\n",
       "      <td>0.000000</td>\n",
       "      <td>0.000000</td>\n",
       "      <td>0.000000</td>\n",
       "      <td>...</td>\n",
       "      <td>0.000000</td>\n",
       "      <td>0.000000</td>\n",
       "      <td>0.000000</td>\n",
       "      <td>0.000000</td>\n",
       "      <td>0.0</td>\n",
       "      <td>0.000000</td>\n",
       "      <td>0.000000</td>\n",
       "      <td>0.000000</td>\n",
       "      <td>0.000000</td>\n",
       "      <td>0.000000</td>\n",
       "    </tr>\n",
       "    <tr>\n",
       "      <th>50%</th>\n",
       "      <td>0.000000</td>\n",
       "      <td>0.000000</td>\n",
       "      <td>0.000000</td>\n",
       "      <td>0.000000</td>\n",
       "      <td>0.000000</td>\n",
       "      <td>0.000000</td>\n",
       "      <td>5.000000</td>\n",
       "      <td>0.000000</td>\n",
       "      <td>0.000000</td>\n",
       "      <td>0.000000</td>\n",
       "      <td>...</td>\n",
       "      <td>0.000000</td>\n",
       "      <td>0.000000</td>\n",
       "      <td>0.000000</td>\n",
       "      <td>0.000000</td>\n",
       "      <td>0.0</td>\n",
       "      <td>0.000000</td>\n",
       "      <td>0.000000</td>\n",
       "      <td>0.000000</td>\n",
       "      <td>0.000000</td>\n",
       "      <td>0.000000</td>\n",
       "    </tr>\n",
       "    <tr>\n",
       "      <th>75%</th>\n",
       "      <td>0.000000</td>\n",
       "      <td>0.000000</td>\n",
       "      <td>1.000000</td>\n",
       "      <td>0.000000</td>\n",
       "      <td>0.000000</td>\n",
       "      <td>0.000000</td>\n",
       "      <td>9.000000</td>\n",
       "      <td>0.000000</td>\n",
       "      <td>0.000000</td>\n",
       "      <td>0.000000</td>\n",
       "      <td>...</td>\n",
       "      <td>0.000000</td>\n",
       "      <td>0.000000</td>\n",
       "      <td>0.000000</td>\n",
       "      <td>0.000000</td>\n",
       "      <td>0.0</td>\n",
       "      <td>0.000000</td>\n",
       "      <td>0.000000</td>\n",
       "      <td>0.000000</td>\n",
       "      <td>0.000000</td>\n",
       "      <td>0.000000</td>\n",
       "    </tr>\n",
       "    <tr>\n",
       "      <th>max</th>\n",
       "      <td>1.000000</td>\n",
       "      <td>1.000000</td>\n",
       "      <td>1.000000</td>\n",
       "      <td>1.000000</td>\n",
       "      <td>1.000000</td>\n",
       "      <td>1.000000</td>\n",
       "      <td>358.000000</td>\n",
       "      <td>1.000000</td>\n",
       "      <td>1.000000</td>\n",
       "      <td>1.000000</td>\n",
       "      <td>...</td>\n",
       "      <td>1.000000</td>\n",
       "      <td>1.000000</td>\n",
       "      <td>1.000000</td>\n",
       "      <td>1.000000</td>\n",
       "      <td>0.0</td>\n",
       "      <td>1.000000</td>\n",
       "      <td>1.000000</td>\n",
       "      <td>1.000000</td>\n",
       "      <td>1.000000</td>\n",
       "      <td>1.000000</td>\n",
       "    </tr>\n",
       "  </tbody>\n",
       "</table>\n",
       "<p>8 rows × 24 columns</p>\n",
       "</div>"
      ],
      "text/plain": [
       "                ACDF           CLAM          SHORT           LONG  \\\n",
       "count  345067.000000  345067.000000  345067.000000  345067.000000   \n",
       "mean        0.195733       0.043823       0.459282       0.121730   \n",
       "std         0.397012       0.204741       0.498372       0.327466   \n",
       "min         0.000000       0.000000       0.000000       0.000000   \n",
       "25%         0.000000       0.000000       0.000000       0.000000   \n",
       "50%         0.000000       0.000000       0.000000       0.000000   \n",
       "75%         0.000000       0.000000       1.000000       0.000000   \n",
       "max         1.000000       1.000000       1.000000       1.000000   \n",
       "\n",
       "                ALIF           PLIF            LOS       COMBINED  \\\n",
       "count  345067.000000  345067.000000  345010.000000  345067.000000   \n",
       "mean        0.084940       0.061374       7.709695       0.010923   \n",
       "std         0.279424       0.240172      79.797306       0.103546   \n",
       "min         0.000000       0.000000   -6666.000000       0.000000   \n",
       "25%         0.000000       0.000000       3.000000       0.000000   \n",
       "50%         0.000000       0.000000       5.000000       0.000000   \n",
       "75%         0.000000       0.000000       9.000000       0.000000   \n",
       "max         1.000000       1.000000     358.000000       1.000000   \n",
       "\n",
       "       COMBINED_SHORT  COMBINED_LONG         ...              PLIF_ILEUS  \\\n",
       "count   345067.000000  345067.000000         ...           345067.000000   \n",
       "mean         0.074049       0.014551         ...                0.002292   \n",
       "std          0.262318       0.119164         ...                0.047785   \n",
       "min          0.000000       0.000000         ...                0.000000   \n",
       "25%          0.000000       0.000000         ...                0.000000   \n",
       "50%          0.000000       0.000000         ...                0.000000   \n",
       "75%          0.000000       0.000000         ...                0.000000   \n",
       "max          1.000000       1.000000         ...                1.000000   \n",
       "\n",
       "                DIED        MI_NPOA    Sepsis_NPOA   PE_NPOA     ACDF_ILEUS  \\\n",
       "count  345045.000000  345067.000000  345067.000000  345067.0  345067.000000   \n",
       "mean        0.033816       0.008416       0.044522       0.0       0.000606   \n",
       "std         0.193980       0.091449       0.206195       0.0       0.024598   \n",
       "min        -9.000000       0.000000       0.000000       0.0       0.000000   \n",
       "25%         0.000000       0.000000       0.000000       0.0       0.000000   \n",
       "50%         0.000000       0.000000       0.000000       0.0       0.000000   \n",
       "75%         0.000000       0.000000       0.000000       0.0       0.000000   \n",
       "max         1.000000       1.000000       1.000000       0.0       1.000000   \n",
       "\n",
       "          CLAM_ILEUS  COMBINED_ILEUS  COMBINED_SHORT_ILEUS  \\\n",
       "count  345067.000000   345067.000000         345067.000000   \n",
       "mean        0.000484        0.001078              0.005373   \n",
       "std         0.021989        0.032803              0.072964   \n",
       "min         0.000000        0.000000              0.000000   \n",
       "25%         0.000000        0.000000              0.000000   \n",
       "50%         0.000000        0.000000              0.000000   \n",
       "75%         0.000000        0.000000              0.000000   \n",
       "max         1.000000        1.000000              1.000000   \n",
       "\n",
       "       COMBINED_LONG_ILEUS  \n",
       "count        345067.000000  \n",
       "mean              0.001837  \n",
       "std               0.042796  \n",
       "min               0.000000  \n",
       "25%               0.000000  \n",
       "50%               0.000000  \n",
       "75%               0.000000  \n",
       "max               1.000000  \n",
       "\n",
       "[8 rows x 24 columns]"
      ]
     },
     "execution_count": 4,
     "metadata": {},
     "output_type": "execute_result"
    }
   ],
   "source": [
    "CAData.describe()"
   ]
  },
  {
   "cell_type": "code",
   "execution_count": 5,
   "metadata": {
    "collapsed": false
   },
   "outputs": [
    {
     "data": {
      "text/html": [
       "<div>\n",
       "<table border=\"1\" class=\"dataframe\">\n",
       "  <thead>\n",
       "    <tr style=\"text-align: right;\">\n",
       "      <th></th>\n",
       "      <th>ACDF</th>\n",
       "      <th>CLAM</th>\n",
       "      <th>SHORT</th>\n",
       "      <th>LONG</th>\n",
       "      <th>ALIF</th>\n",
       "      <th>PLIF</th>\n",
       "      <th>LOS</th>\n",
       "      <th>COMBINED</th>\n",
       "      <th>COMBINED_SHORT</th>\n",
       "      <th>COMBINED_LONG</th>\n",
       "      <th>...</th>\n",
       "      <th>PLIF_ILEUS</th>\n",
       "      <th>DIED</th>\n",
       "      <th>MI_NPOA</th>\n",
       "      <th>Sepsis_NPOA</th>\n",
       "      <th>PE_NPOA</th>\n",
       "      <th>ACDF_ILEUS</th>\n",
       "      <th>CLAM_ILEUS</th>\n",
       "      <th>COMBINED_ILEUS</th>\n",
       "      <th>COMBINED_SHORT_ILEUS</th>\n",
       "      <th>COMBINED_LONG_ILEUS</th>\n",
       "    </tr>\n",
       "  </thead>\n",
       "  <tbody>\n",
       "    <tr>\n",
       "      <th>0</th>\n",
       "      <td>0.0</td>\n",
       "      <td>1.0</td>\n",
       "      <td>1.0</td>\n",
       "      <td>0.0</td>\n",
       "      <td>0.0</td>\n",
       "      <td>0.0</td>\n",
       "      <td>15.0</td>\n",
       "      <td>0.0</td>\n",
       "      <td>0.0</td>\n",
       "      <td>0.0</td>\n",
       "      <td>...</td>\n",
       "      <td>0.0</td>\n",
       "      <td>0.0</td>\n",
       "      <td>0.0</td>\n",
       "      <td>0.0</td>\n",
       "      <td>0.0</td>\n",
       "      <td>0.0</td>\n",
       "      <td>0.0</td>\n",
       "      <td>0.0</td>\n",
       "      <td>0.0</td>\n",
       "      <td>0.0</td>\n",
       "    </tr>\n",
       "    <tr>\n",
       "      <th>1</th>\n",
       "      <td>1.0</td>\n",
       "      <td>0.0</td>\n",
       "      <td>1.0</td>\n",
       "      <td>0.0</td>\n",
       "      <td>0.0</td>\n",
       "      <td>0.0</td>\n",
       "      <td>16.0</td>\n",
       "      <td>0.0</td>\n",
       "      <td>0.0</td>\n",
       "      <td>0.0</td>\n",
       "      <td>...</td>\n",
       "      <td>0.0</td>\n",
       "      <td>0.0</td>\n",
       "      <td>0.0</td>\n",
       "      <td>0.0</td>\n",
       "      <td>0.0</td>\n",
       "      <td>0.0</td>\n",
       "      <td>0.0</td>\n",
       "      <td>0.0</td>\n",
       "      <td>0.0</td>\n",
       "      <td>0.0</td>\n",
       "    </tr>\n",
       "    <tr>\n",
       "      <th>2</th>\n",
       "      <td>0.0</td>\n",
       "      <td>0.0</td>\n",
       "      <td>0.0</td>\n",
       "      <td>0.0</td>\n",
       "      <td>0.0</td>\n",
       "      <td>0.0</td>\n",
       "      <td>7.0</td>\n",
       "      <td>0.0</td>\n",
       "      <td>0.0</td>\n",
       "      <td>0.0</td>\n",
       "      <td>...</td>\n",
       "      <td>0.0</td>\n",
       "      <td>0.0</td>\n",
       "      <td>0.0</td>\n",
       "      <td>0.0</td>\n",
       "      <td>0.0</td>\n",
       "      <td>0.0</td>\n",
       "      <td>0.0</td>\n",
       "      <td>0.0</td>\n",
       "      <td>0.0</td>\n",
       "      <td>0.0</td>\n",
       "    </tr>\n",
       "    <tr>\n",
       "      <th>3</th>\n",
       "      <td>0.0</td>\n",
       "      <td>0.0</td>\n",
       "      <td>0.0</td>\n",
       "      <td>0.0</td>\n",
       "      <td>0.0</td>\n",
       "      <td>0.0</td>\n",
       "      <td>13.0</td>\n",
       "      <td>0.0</td>\n",
       "      <td>0.0</td>\n",
       "      <td>0.0</td>\n",
       "      <td>...</td>\n",
       "      <td>0.0</td>\n",
       "      <td>1.0</td>\n",
       "      <td>0.0</td>\n",
       "      <td>0.0</td>\n",
       "      <td>0.0</td>\n",
       "      <td>0.0</td>\n",
       "      <td>0.0</td>\n",
       "      <td>0.0</td>\n",
       "      <td>0.0</td>\n",
       "      <td>0.0</td>\n",
       "    </tr>\n",
       "    <tr>\n",
       "      <th>4</th>\n",
       "      <td>1.0</td>\n",
       "      <td>0.0</td>\n",
       "      <td>1.0</td>\n",
       "      <td>0.0</td>\n",
       "      <td>0.0</td>\n",
       "      <td>0.0</td>\n",
       "      <td>18.0</td>\n",
       "      <td>0.0</td>\n",
       "      <td>0.0</td>\n",
       "      <td>0.0</td>\n",
       "      <td>...</td>\n",
       "      <td>0.0</td>\n",
       "      <td>0.0</td>\n",
       "      <td>0.0</td>\n",
       "      <td>0.0</td>\n",
       "      <td>0.0</td>\n",
       "      <td>0.0</td>\n",
       "      <td>0.0</td>\n",
       "      <td>0.0</td>\n",
       "      <td>0.0</td>\n",
       "      <td>0.0</td>\n",
       "    </tr>\n",
       "  </tbody>\n",
       "</table>\n",
       "<p>5 rows × 24 columns</p>\n",
       "</div>"
      ],
      "text/plain": [
       "   ACDF  CLAM  SHORT  LONG  ALIF  PLIF   LOS  COMBINED  COMBINED_SHORT  \\\n",
       "0   0.0   1.0    1.0   0.0   0.0   0.0  15.0       0.0             0.0   \n",
       "1   1.0   0.0    1.0   0.0   0.0   0.0  16.0       0.0             0.0   \n",
       "2   0.0   0.0    0.0   0.0   0.0   0.0   7.0       0.0             0.0   \n",
       "3   0.0   0.0    0.0   0.0   0.0   0.0  13.0       0.0             0.0   \n",
       "4   1.0   0.0    1.0   0.0   0.0   0.0  18.0       0.0             0.0   \n",
       "\n",
       "   COMBINED_LONG         ...           PLIF_ILEUS  DIED  MI_NPOA  Sepsis_NPOA  \\\n",
       "0            0.0         ...                  0.0   0.0      0.0          0.0   \n",
       "1            0.0         ...                  0.0   0.0      0.0          0.0   \n",
       "2            0.0         ...                  0.0   0.0      0.0          0.0   \n",
       "3            0.0         ...                  0.0   1.0      0.0          0.0   \n",
       "4            0.0         ...                  0.0   0.0      0.0          0.0   \n",
       "\n",
       "   PE_NPOA  ACDF_ILEUS  CLAM_ILEUS  COMBINED_ILEUS  COMBINED_SHORT_ILEUS  \\\n",
       "0      0.0         0.0         0.0             0.0                   0.0   \n",
       "1      0.0         0.0         0.0             0.0                   0.0   \n",
       "2      0.0         0.0         0.0             0.0                   0.0   \n",
       "3      0.0         0.0         0.0             0.0                   0.0   \n",
       "4      0.0         0.0         0.0             0.0                   0.0   \n",
       "\n",
       "   COMBINED_LONG_ILEUS  \n",
       "0                  0.0  \n",
       "1                  0.0  \n",
       "2                  0.0  \n",
       "3                  0.0  \n",
       "4                  0.0  \n",
       "\n",
       "[5 rows x 24 columns]"
      ]
     },
     "execution_count": 5,
     "metadata": {},
     "output_type": "execute_result"
    }
   ],
   "source": [
    "CAData.head(5)"
   ]
  },
  {
   "cell_type": "markdown",
   "metadata": {
    "collapsed": false
   },
   "source": [
    "## Processing the data:"
   ]
  },
  {
   "cell_type": "markdown",
   "metadata": {
    "collapsed": true
   },
   "source": [
    "### 1. Finding NA values"
   ]
  },
  {
   "cell_type": "code",
   "execution_count": 6,
   "metadata": {
    "collapsed": false
   },
   "outputs": [
    {
     "data": {
      "text/plain": [
       "array([ 0,  0,  0,  0,  0,  0, 57,  0,  0,  0,  0,  0,  0,  0,  0, 22,  0,\n",
       "        0,  0,  0,  0,  0,  0,  0])"
      ]
     },
     "execution_count": 6,
     "metadata": {},
     "output_type": "execute_result"
    }
   ],
   "source": [
    "np.sum(np.array(pd.isnull(CAData)),0)"
   ]
  },
  {
   "cell_type": "markdown",
   "metadata": {
    "collapsed": true
   },
   "source": [
    "### 2. Finding negative values"
   ]
  },
  {
   "cell_type": "code",
   "execution_count": 7,
   "metadata": {
    "collapsed": false
   },
   "outputs": [
    {
     "data": {
      "text/plain": [
       "array([ 0,  0,  0,  0,  0,  0, 48,  0,  0,  0,  0,  0,  0,  0,  0, 19,  0,\n",
       "        0,  0,  0,  0,  0,  0,  0])"
      ]
     },
     "execution_count": 7,
     "metadata": {},
     "output_type": "execute_result"
    }
   ],
   "source": [
    "np.sum(np.array(CAData < 0), 0)"
   ]
  },
  {
   "cell_type": "markdown",
   "metadata": {
    "collapsed": true
   },
   "source": [
    "### 3. Finding patients who length of stay (LOS) is 1 day or less"
   ]
  },
  {
   "cell_type": "code",
   "execution_count": 8,
   "metadata": {
    "collapsed": false
   },
   "outputs": [
    {
     "data": {
      "text/plain": [
       "36850"
      ]
     },
     "execution_count": 8,
     "metadata": {},
     "output_type": "execute_result"
    }
   ],
   "source": [
    "np.sum(np.array(CAData.LOS<=1),0)"
   ]
  },
  {
   "cell_type": "markdown",
   "metadata": {
    "collapsed": true
   },
   "source": [
    "## Cleaning data:"
   ]
  },
  {
   "cell_type": "code",
   "execution_count": 9,
   "metadata": {
    "collapsed": false
   },
   "outputs": [],
   "source": [
    "for feature in CAData.columns: \n",
    "    CAData = CAData[CAData[feature] >= 0]"
   ]
  },
  {
   "cell_type": "code",
   "execution_count": 10,
   "metadata": {
    "collapsed": true
   },
   "outputs": [],
   "source": [
    "CAData = CAData[CAData['LOS'] > 1]"
   ]
  },
  {
   "cell_type": "code",
   "execution_count": 11,
   "metadata": {
    "collapsed": false
   },
   "outputs": [
    {
     "data": {
      "text/plain": [
       "(308119, 24)"
      ]
     },
     "execution_count": 11,
     "metadata": {},
     "output_type": "execute_result"
    }
   ],
   "source": [
    "CAData.shape"
   ]
  },
  {
   "cell_type": "markdown",
   "metadata": {
    "collapsed": true
   },
   "source": [
    "## Answer to Questions:"
   ]
  },
  {
   "cell_type": "markdown",
   "metadata": {
    "collapsed": true
   },
   "source": [
    "### 1) Comparing ACDF_ILEUS vs MI_NPOA to see if there is a higher rate of MI for patients that undergo ACDF_ILEUS.\n"
   ]
  },
  {
   "cell_type": "code",
   "execution_count": 12,
   "metadata": {
    "collapsed": false
   },
   "outputs": [
    {
     "data": {
      "text/html": [
       "<div>\n",
       "<table border=\"1\" class=\"dataframe\">\n",
       "  <thead>\n",
       "    <tr style=\"text-align: right;\">\n",
       "      <th>ACDF_ILEUS</th>\n",
       "      <th>0.0</th>\n",
       "      <th>1.0</th>\n",
       "    </tr>\n",
       "    <tr>\n",
       "      <th>MI_NPOA</th>\n",
       "      <th></th>\n",
       "      <th></th>\n",
       "    </tr>\n",
       "  </thead>\n",
       "  <tbody>\n",
       "    <tr>\n",
       "      <th>0.0</th>\n",
       "      <td>305052</td>\n",
       "      <td>203</td>\n",
       "    </tr>\n",
       "    <tr>\n",
       "      <th>1.0</th>\n",
       "      <td>2862</td>\n",
       "      <td>2</td>\n",
       "    </tr>\n",
       "  </tbody>\n",
       "</table>\n",
       "</div>"
      ],
      "text/plain": [
       "ACDF_ILEUS     0.0  1.0\n",
       "MI_NPOA                \n",
       "0.0         305052  203\n",
       "1.0           2862    2"
      ]
     },
     "execution_count": 12,
     "metadata": {},
     "output_type": "execute_result"
    }
   ],
   "source": [
    "ct_ACDF_MI = pd.crosstab(CAData.MI_NPOA,CAData.ACDF_ILEUS); ct_ACDF_MI"
   ]
  },
  {
   "cell_type": "code",
   "execution_count": 13,
   "metadata": {
    "collapsed": false
   },
   "outputs": [
    {
     "data": {
      "text/html": [
       "<div>\n",
       "<table border=\"1\" class=\"dataframe\">\n",
       "  <thead>\n",
       "    <tr style=\"text-align: right;\">\n",
       "      <th>ACDF_ILEUS</th>\n",
       "      <th>0.0</th>\n",
       "      <th>1.0</th>\n",
       "    </tr>\n",
       "    <tr>\n",
       "      <th>MI_NPOA</th>\n",
       "      <th></th>\n",
       "      <th></th>\n",
       "    </tr>\n",
       "  </thead>\n",
       "  <tbody>\n",
       "    <tr>\n",
       "      <th>0.0</th>\n",
       "      <td>0.990705</td>\n",
       "      <td>0.990244</td>\n",
       "    </tr>\n",
       "    <tr>\n",
       "      <th>1.0</th>\n",
       "      <td>0.009295</td>\n",
       "      <td>0.009756</td>\n",
       "    </tr>\n",
       "  </tbody>\n",
       "</table>\n",
       "</div>"
      ],
      "text/plain": [
       "ACDF_ILEUS       0.0       1.0\n",
       "MI_NPOA                       \n",
       "0.0         0.990705  0.990244\n",
       "1.0         0.009295  0.009756"
      ]
     },
     "execution_count": 13,
     "metadata": {},
     "output_type": "execute_result"
    }
   ],
   "source": [
    "pd.crosstab(CAData.MI_NPOA,CAData.ACDF_ILEUS).apply(lambda x: x/x.sum(), 0)\n"
   ]
  },
  {
   "cell_type": "code",
   "execution_count": 14,
   "metadata": {
    "collapsed": false
   },
   "outputs": [
    {
     "name": "stdout",
     "output_type": "stream",
     "text": [
      "Odds ratio: 1.05011824726\n"
     ]
    }
   ],
   "source": [
    "print('Odds ratio:', stats.fisher_exact(ct_ACDF_MI)[0])\n"
   ]
  },
  {
   "cell_type": "code",
   "execution_count": 15,
   "metadata": {
    "collapsed": false
   },
   "outputs": [
    {
     "data": {
      "text/plain": [
       "'\\nprop.test(c(2862,2),c(307914,205))\\n\\n2-sample test for equality of proportions with continuity correction\\n\\ndata:  c(2862, 2) out of c(307914, 205)\\nX-squared = 7.7793e-28, df = 1, p-value = 1\\nalternative hypothesis: two.sided\\n95 percent confidence interval:\\n-0.01438175  0.01345916\\nsample estimates:\\n    prop 1      prop 2 \\n0.009294803 0.009756098 \\n\\nWarning message:\\nIn prop.test(c(2862, 2), c(307914, 205)) :\\n Chi-squared approximation may be incorrect\\n'"
      ]
     },
     "execution_count": 15,
     "metadata": {},
     "output_type": "execute_result"
    }
   ],
   "source": [
    "#Implemented the hypothesis test in R\n",
    "'''\n",
    "prop.test(c(2862,2),c(307914,205))\n",
    "\n",
    "2-sample test for equality of proportions with continuity correction\n",
    "\n",
    "data:  c(2862, 2) out of c(307914, 205)\n",
    "X-squared = 7.7793e-28, df = 1, p-value = 1\n",
    "alternative hypothesis: two.sided\n",
    "95 percent confidence interval:\n",
    "-0.01438175  0.01345916\n",
    "sample estimates:\n",
    "    prop 1      prop 2 \n",
    "0.009294803 0.009756098 \n",
    "\n",
    "Warning message:\n",
    "In prop.test(c(2862, 2), c(307914, 205)) :\n",
    " Chi-squared approximation may be incorrect\n",
    "'''\n",
    "#Insignificant"
   ]
  },
  {
   "cell_type": "markdown",
   "metadata": {},
   "source": [
    "### 2) Comparing CLAM_ILEUS vs MI_NPOA to see if there is a higher rate of MI for patients that undergo CLAM_ILEUS.\n"
   ]
  },
  {
   "cell_type": "code",
   "execution_count": 16,
   "metadata": {
    "collapsed": false
   },
   "outputs": [
    {
     "data": {
      "text/html": [
       "<div>\n",
       "<table border=\"1\" class=\"dataframe\">\n",
       "  <thead>\n",
       "    <tr style=\"text-align: right;\">\n",
       "      <th>CLAM_ILEUS</th>\n",
       "      <th>0.0</th>\n",
       "      <th>1.0</th>\n",
       "    </tr>\n",
       "    <tr>\n",
       "      <th>MI_NPOA</th>\n",
       "      <th></th>\n",
       "      <th></th>\n",
       "    </tr>\n",
       "  </thead>\n",
       "  <tbody>\n",
       "    <tr>\n",
       "      <th>0.0</th>\n",
       "      <td>305091</td>\n",
       "      <td>164</td>\n",
       "    </tr>\n",
       "    <tr>\n",
       "      <th>1.0</th>\n",
       "      <td>2861</td>\n",
       "      <td>3</td>\n",
       "    </tr>\n",
       "  </tbody>\n",
       "</table>\n",
       "</div>"
      ],
      "text/plain": [
       "CLAM_ILEUS     0.0  1.0\n",
       "MI_NPOA                \n",
       "0.0         305091  164\n",
       "1.0           2861    3"
      ]
     },
     "execution_count": 16,
     "metadata": {},
     "output_type": "execute_result"
    }
   ],
   "source": [
    "ct_CLAM_MI = pd.crosstab(CAData.MI_NPOA,CAData.CLAM_ILEUS); ct_CLAM_MI"
   ]
  },
  {
   "cell_type": "code",
   "execution_count": 17,
   "metadata": {
    "collapsed": false
   },
   "outputs": [
    {
     "data": {
      "text/html": [
       "<div>\n",
       "<table border=\"1\" class=\"dataframe\">\n",
       "  <thead>\n",
       "    <tr style=\"text-align: right;\">\n",
       "      <th>CLAM_ILEUS</th>\n",
       "      <th>0.0</th>\n",
       "      <th>1.0</th>\n",
       "    </tr>\n",
       "    <tr>\n",
       "      <th>MI_NPOA</th>\n",
       "      <th></th>\n",
       "      <th></th>\n",
       "    </tr>\n",
       "  </thead>\n",
       "  <tbody>\n",
       "    <tr>\n",
       "      <th>0.0</th>\n",
       "      <td>0.99071</td>\n",
       "      <td>0.982036</td>\n",
       "    </tr>\n",
       "    <tr>\n",
       "      <th>1.0</th>\n",
       "      <td>0.00929</td>\n",
       "      <td>0.017964</td>\n",
       "    </tr>\n",
       "  </tbody>\n",
       "</table>\n",
       "</div>"
      ],
      "text/plain": [
       "CLAM_ILEUS      0.0       1.0\n",
       "MI_NPOA                      \n",
       "0.0         0.99071  0.982036\n",
       "1.0         0.00929  0.017964"
      ]
     },
     "execution_count": 17,
     "metadata": {},
     "output_type": "execute_result"
    }
   ],
   "source": [
    "pd.crosstab(CAData.MI_NPOA,CAData.CLAM_ILEUS).apply(lambda x: x/x.sum(), 0)\n"
   ]
  },
  {
   "cell_type": "code",
   "execution_count": 18,
   "metadata": {
    "collapsed": false
   },
   "outputs": [
    {
     "name": "stdout",
     "output_type": "stream",
     "text": [
      "Odds ratio: 1.95069308872\n"
     ]
    }
   ],
   "source": [
    "print('Odds ratio:', stats.fisher_exact(ct_CLAM_MI)[0])\n"
   ]
  },
  {
   "cell_type": "code",
   "execution_count": 19,
   "metadata": {
    "collapsed": false
   },
   "outputs": [
    {
     "data": {
      "text/plain": [
       "'\\nprop.test(c(2861,3),c(307952,167))\\n\\n2-sample test for equality of proportions with continuity correction\\n\\ndata:  c(2861, 3) out of c(307952, 167)\\nX-squared = 0.58436, df = 1, p-value = 0.4446\\nalternative hypothesis: two.sided\\n95 percent confidence interval:\\n-0.03181662  0.01446930\\nsample estimates:\\n    prop 1      prop 2 \\n0.009290409 0.017964072 \\n\\nWarning message:\\nIn prop.test(c(2861, 3), c(307952, 167)) :\\n Chi-squared approximation may be incorrect\\n\\n'"
      ]
     },
     "execution_count": 19,
     "metadata": {},
     "output_type": "execute_result"
    }
   ],
   "source": [
    "#Implemented the hypothesis test in R\n",
    "'''\n",
    "prop.test(c(2861,3),c(307952,167))\n",
    "\n",
    "2-sample test for equality of proportions with continuity correction\n",
    "\n",
    "data:  c(2861, 3) out of c(307952, 167)\n",
    "X-squared = 0.58436, df = 1, p-value = 0.4446\n",
    "alternative hypothesis: two.sided\n",
    "95 percent confidence interval:\n",
    "-0.03181662  0.01446930\n",
    "sample estimates:\n",
    "    prop 1      prop 2 \n",
    "0.009290409 0.017964072 \n",
    "\n",
    "Warning message:\n",
    "In prop.test(c(2861, 3), c(307952, 167)) :\n",
    " Chi-squared approximation may be incorrect\n",
    "\n",
    "'''\n",
    "#insignificant"
   ]
  },
  {
   "cell_type": "markdown",
   "metadata": {},
   "source": [
    "### 3) Comparing LONG_ILEUS vs MI_NPOA to see if there is a higher rate of MI for patients that undergo LONG_ILEUS.\n"
   ]
  },
  {
   "cell_type": "code",
   "execution_count": 20,
   "metadata": {
    "collapsed": false
   },
   "outputs": [
    {
     "data": {
      "text/html": [
       "<div>\n",
       "<table border=\"1\" class=\"dataframe\">\n",
       "  <thead>\n",
       "    <tr style=\"text-align: right;\">\n",
       "      <th>LONG_ILEUS</th>\n",
       "      <th>0.0</th>\n",
       "      <th>1.0</th>\n",
       "    </tr>\n",
       "    <tr>\n",
       "      <th>MI_NPOA</th>\n",
       "      <th></th>\n",
       "      <th></th>\n",
       "    </tr>\n",
       "  </thead>\n",
       "  <tbody>\n",
       "    <tr>\n",
       "      <th>0.0</th>\n",
       "      <td>303595</td>\n",
       "      <td>1660</td>\n",
       "    </tr>\n",
       "    <tr>\n",
       "      <th>1.0</th>\n",
       "      <td>2853</td>\n",
       "      <td>11</td>\n",
       "    </tr>\n",
       "  </tbody>\n",
       "</table>\n",
       "</div>"
      ],
      "text/plain": [
       "LONG_ILEUS     0.0   1.0\n",
       "MI_NPOA                 \n",
       "0.0         303595  1660\n",
       "1.0           2853    11"
      ]
     },
     "execution_count": 20,
     "metadata": {},
     "output_type": "execute_result"
    }
   ],
   "source": [
    "ct_LONG_MI = pd.crosstab(CAData.MI_NPOA,CAData.LONG_ILEUS); ct_LONG_MI"
   ]
  },
  {
   "cell_type": "code",
   "execution_count": 21,
   "metadata": {
    "collapsed": false
   },
   "outputs": [
    {
     "data": {
      "text/html": [
       "<div>\n",
       "<table border=\"1\" class=\"dataframe\">\n",
       "  <thead>\n",
       "    <tr style=\"text-align: right;\">\n",
       "      <th>LONG_ILEUS</th>\n",
       "      <th>0.0</th>\n",
       "      <th>1.0</th>\n",
       "    </tr>\n",
       "    <tr>\n",
       "      <th>MI_NPOA</th>\n",
       "      <th></th>\n",
       "      <th></th>\n",
       "    </tr>\n",
       "  </thead>\n",
       "  <tbody>\n",
       "    <tr>\n",
       "      <th>0.0</th>\n",
       "      <td>0.99069</td>\n",
       "      <td>0.993417</td>\n",
       "    </tr>\n",
       "    <tr>\n",
       "      <th>1.0</th>\n",
       "      <td>0.00931</td>\n",
       "      <td>0.006583</td>\n",
       "    </tr>\n",
       "  </tbody>\n",
       "</table>\n",
       "</div>"
      ],
      "text/plain": [
       "LONG_ILEUS      0.0       1.0\n",
       "MI_NPOA                      \n",
       "0.0         0.99069  0.993417\n",
       "1.0         0.00931  0.006583"
      ]
     },
     "execution_count": 21,
     "metadata": {},
     "output_type": "execute_result"
    }
   ],
   "source": [
    "pd.crosstab(CAData.MI_NPOA,CAData.LONG_ILEUS).apply(lambda x: x/x.sum(), 0)\n"
   ]
  },
  {
   "cell_type": "code",
   "execution_count": 22,
   "metadata": {
    "collapsed": false
   },
   "outputs": [
    {
     "name": "stdout",
     "output_type": "stream",
     "text": [
      "Odds ratio: 0.705143391653\n"
     ]
    }
   ],
   "source": [
    "print('Odds ratio:', stats.fisher_exact(ct_LONG_MI)[0])\n"
   ]
  },
  {
   "cell_type": "code",
   "execution_count": 23,
   "metadata": {
    "collapsed": false
   },
   "outputs": [
    {
     "data": {
      "text/plain": [
       "'\\nprop.test(c(2853,11),c(306448,1671))\\n\\n2-sample test for equality of proportions with continuity correction\\n\\ndata:  c(2853, 11) out of c(306448, 1671)\\nX-squared = 1.0623, df = 1, p-value = 0.3027\\nalternative hypothesis: two.sided\\n95 percent confidence interval:\\n-0.001466059  0.006920088\\nsample estimates:\\n    prop 1      prop 2 \\n0.009309899 0.006582885 \\n'"
      ]
     },
     "execution_count": 23,
     "metadata": {},
     "output_type": "execute_result"
    }
   ],
   "source": [
    "#Implemented the hypothesis test in R\n",
    "'''\n",
    "prop.test(c(2853,11),c(306448,1671))\n",
    "\n",
    "2-sample test for equality of proportions with continuity correction\n",
    "\n",
    "data:  c(2853, 11) out of c(306448, 1671)\n",
    "X-squared = 1.0623, df = 1, p-value = 0.3027\n",
    "alternative hypothesis: two.sided\n",
    "95 percent confidence interval:\n",
    "-0.001466059  0.006920088\n",
    "sample estimates:\n",
    "    prop 1      prop 2 \n",
    "0.009309899 0.006582885 \n",
    "'''\n",
    "#insignificant"
   ]
  },
  {
   "cell_type": "markdown",
   "metadata": {},
   "source": [
    "### 4) Comparing SHORT_ILEUS vs MI_NPOA to see if there is a higher rate of MI for patients that undergo SHORT_ILEUS.\n"
   ]
  },
  {
   "cell_type": "code",
   "execution_count": 24,
   "metadata": {
    "collapsed": false
   },
   "outputs": [
    {
     "data": {
      "text/html": [
       "<div>\n",
       "<table border=\"1\" class=\"dataframe\">\n",
       "  <thead>\n",
       "    <tr style=\"text-align: right;\">\n",
       "      <th>SHORT_ILEUS</th>\n",
       "      <th>0.0</th>\n",
       "      <th>1.0</th>\n",
       "    </tr>\n",
       "    <tr>\n",
       "      <th>MI_NPOA</th>\n",
       "      <th></th>\n",
       "      <th></th>\n",
       "    </tr>\n",
       "  </thead>\n",
       "  <tbody>\n",
       "    <tr>\n",
       "      <th>0.0</th>\n",
       "      <td>301494</td>\n",
       "      <td>3761</td>\n",
       "    </tr>\n",
       "    <tr>\n",
       "      <th>1.0</th>\n",
       "      <td>2843</td>\n",
       "      <td>21</td>\n",
       "    </tr>\n",
       "  </tbody>\n",
       "</table>\n",
       "</div>"
      ],
      "text/plain": [
       "SHORT_ILEUS     0.0   1.0\n",
       "MI_NPOA                  \n",
       "0.0          301494  3761\n",
       "1.0            2843    21"
      ]
     },
     "execution_count": 24,
     "metadata": {},
     "output_type": "execute_result"
    }
   ],
   "source": [
    "ct_SHORT_MI = pd.crosstab(CAData.MI_NPOA,CAData.SHORT_ILEUS); ct_SHORT_MI"
   ]
  },
  {
   "cell_type": "code",
   "execution_count": 25,
   "metadata": {
    "collapsed": false
   },
   "outputs": [
    {
     "data": {
      "text/html": [
       "<div>\n",
       "<table border=\"1\" class=\"dataframe\">\n",
       "  <thead>\n",
       "    <tr style=\"text-align: right;\">\n",
       "      <th>SHORT_ILEUS</th>\n",
       "      <th>0.0</th>\n",
       "      <th>1.0</th>\n",
       "    </tr>\n",
       "    <tr>\n",
       "      <th>MI_NPOA</th>\n",
       "      <th></th>\n",
       "      <th></th>\n",
       "    </tr>\n",
       "  </thead>\n",
       "  <tbody>\n",
       "    <tr>\n",
       "      <th>0.0</th>\n",
       "      <td>0.990658</td>\n",
       "      <td>0.994447</td>\n",
       "    </tr>\n",
       "    <tr>\n",
       "      <th>1.0</th>\n",
       "      <td>0.009342</td>\n",
       "      <td>0.005553</td>\n",
       "    </tr>\n",
       "  </tbody>\n",
       "</table>\n",
       "</div>"
      ],
      "text/plain": [
       "SHORT_ILEUS       0.0       1.0\n",
       "MI_NPOA                        \n",
       "0.0          0.990658  0.994447\n",
       "1.0          0.009342  0.005553"
      ]
     },
     "execution_count": 25,
     "metadata": {},
     "output_type": "execute_result"
    }
   ],
   "source": [
    "pd.crosstab(CAData.MI_NPOA,CAData.SHORT_ILEUS).apply(lambda x: x/x.sum(), 0)\n"
   ]
  },
  {
   "cell_type": "code",
   "execution_count": 26,
   "metadata": {
    "collapsed": false
   },
   "outputs": [
    {
     "name": "stdout",
     "output_type": "stream",
     "text": [
      "Odds ratio: 0.592130968528\n"
     ]
    }
   ],
   "source": [
    "print('Odds ratio:', stats.fisher_exact(ct_SHORT_MI)[0])\n"
   ]
  },
  {
   "cell_type": "code",
   "execution_count": 27,
   "metadata": {
    "collapsed": false
   },
   "outputs": [
    {
     "data": {
      "text/plain": [
       "'\\nprop.test(c(2843,21),c(304337,3781))\\n\\n2-sample test for equality of proportions with continuity correction\\n\\ndata:  c(2843, 21) out of c(304337, 3781)\\nX-squared = 5.4137, df = 1, p-value = 0.01998\\nalternative hypothesis: two.sided\\n95 percent confidence interval:\\n0.001260248 0.006314816\\nsample estimates:\\n    prop 1      prop 2 \\n0.009341618 0.005554086 \\n'"
      ]
     },
     "execution_count": 27,
     "metadata": {},
     "output_type": "execute_result"
    }
   ],
   "source": [
    "#Implemented the hypothesis test in R\n",
    "'''\n",
    "prop.test(c(2843,21),c(304337,3781))\n",
    "\n",
    "2-sample test for equality of proportions with continuity correction\n",
    "\n",
    "data:  c(2843, 21) out of c(304337, 3781)\n",
    "X-squared = 5.4137, df = 1, p-value = 0.01998\n",
    "alternative hypothesis: two.sided\n",
    "95 percent confidence interval:\n",
    "0.001260248 0.006314816\n",
    "sample estimates:\n",
    "    prop 1      prop 2 \n",
    "0.009341618 0.005554086 \n",
    "'''\n",
    "#significant"
   ]
  },
  {
   "cell_type": "markdown",
   "metadata": {},
   "source": [
    "### 5). Comparing ALIF_ILEUS vs MI_NPOA to see if there is a higher rate of MI for patients that undergo ALIF_ILEUS."
   ]
  },
  {
   "cell_type": "code",
   "execution_count": 28,
   "metadata": {
    "collapsed": false
   },
   "outputs": [
    {
     "data": {
      "text/html": [
       "<div>\n",
       "<table border=\"1\" class=\"dataframe\">\n",
       "  <thead>\n",
       "    <tr style=\"text-align: right;\">\n",
       "      <th>ALIF_ILEUS</th>\n",
       "      <th>0.0</th>\n",
       "      <th>1.0</th>\n",
       "    </tr>\n",
       "    <tr>\n",
       "      <th>MI_NPOA</th>\n",
       "      <th></th>\n",
       "      <th></th>\n",
       "    </tr>\n",
       "  </thead>\n",
       "  <tbody>\n",
       "    <tr>\n",
       "      <th>0.0</th>\n",
       "      <td>302936</td>\n",
       "      <td>2319</td>\n",
       "    </tr>\n",
       "    <tr>\n",
       "      <th>1.0</th>\n",
       "      <td>2855</td>\n",
       "      <td>9</td>\n",
       "    </tr>\n",
       "  </tbody>\n",
       "</table>\n",
       "</div>"
      ],
      "text/plain": [
       "ALIF_ILEUS     0.0   1.0\n",
       "MI_NPOA                 \n",
       "0.0         302936  2319\n",
       "1.0           2855     9"
      ]
     },
     "execution_count": 28,
     "metadata": {},
     "output_type": "execute_result"
    }
   ],
   "source": [
    "ct_ALIF_MI = pd.crosstab(CAData.MI_NPOA,CAData.ALIF_ILEUS); ct_ALIF_MI"
   ]
  },
  {
   "cell_type": "code",
   "execution_count": 29,
   "metadata": {
    "collapsed": false
   },
   "outputs": [
    {
     "data": {
      "text/html": [
       "<div>\n",
       "<table border=\"1\" class=\"dataframe\">\n",
       "  <thead>\n",
       "    <tr style=\"text-align: right;\">\n",
       "      <th>ALIF_ILEUS</th>\n",
       "      <th>0.0</th>\n",
       "      <th>1.0</th>\n",
       "    </tr>\n",
       "    <tr>\n",
       "      <th>MI_NPOA</th>\n",
       "      <th></th>\n",
       "      <th></th>\n",
       "    </tr>\n",
       "  </thead>\n",
       "  <tbody>\n",
       "    <tr>\n",
       "      <th>0.0</th>\n",
       "      <td>0.990664</td>\n",
       "      <td>0.996134</td>\n",
       "    </tr>\n",
       "    <tr>\n",
       "      <th>1.0</th>\n",
       "      <td>0.009336</td>\n",
       "      <td>0.003866</td>\n",
       "    </tr>\n",
       "  </tbody>\n",
       "</table>\n",
       "</div>"
      ],
      "text/plain": [
       "ALIF_ILEUS       0.0       1.0\n",
       "MI_NPOA                       \n",
       "0.0         0.990664  0.996134\n",
       "1.0         0.009336  0.003866"
      ]
     },
     "execution_count": 29,
     "metadata": {},
     "output_type": "execute_result"
    }
   ],
   "source": [
    "pd.crosstab(CAData.MI_NPOA,CAData.ALIF_ILEUS).apply(lambda x: x/x.sum(), 0)\n"
   ]
  },
  {
   "cell_type": "code",
   "execution_count": 30,
   "metadata": {
    "collapsed": false
   },
   "outputs": [
    {
     "name": "stdout",
     "output_type": "stream",
     "text": [
      "Odds ratio: 0.411800182608\n"
     ]
    }
   ],
   "source": [
    "print('Odds ratio:', stats.fisher_exact(ct_ALIF_MI)[0])"
   ]
  },
  {
   "cell_type": "code",
   "execution_count": 31,
   "metadata": {
    "collapsed": false
   },
   "outputs": [
    {
     "data": {
      "text/plain": [
       "'\\nprop.test(c(2855,9),c(305791,2328))\\n\\n2-sample test for equality of proportions with continuity correction\\n\\ndata:  c(2855, 9) out of c(305791, 2328)\\nX-squared = 6.9259, df = 1, p-value = 0.008495\\nalternative hypothesis: two.sided\\n95 percent confidence interval:\\n0.002710269 0.008230656\\nsample estimates:\\n    prop 1      prop 2 \\n0.009336442 0.003865979\\n'"
      ]
     },
     "execution_count": 31,
     "metadata": {},
     "output_type": "execute_result"
    }
   ],
   "source": [
    "#Implemented the hypothesis test in R\n",
    "'''\n",
    "prop.test(c(2855,9),c(305791,2328))\n",
    "\n",
    "2-sample test for equality of proportions with continuity correction\n",
    "\n",
    "data:  c(2855, 9) out of c(305791, 2328)\n",
    "X-squared = 6.9259, df = 1, p-value = 0.008495\n",
    "alternative hypothesis: two.sided\n",
    "95 percent confidence interval:\n",
    "0.002710269 0.008230656\n",
    "sample estimates:\n",
    "    prop 1      prop 2 \n",
    "0.009336442 0.003865979\n",
    "'''\n",
    "#significant"
   ]
  },
  {
   "cell_type": "markdown",
   "metadata": {},
   "source": [
    "### 6). Comparing PLIF_ILEUS vs MI_NPOA to see if there is a higher rate of MI for patients that undergo PLIF_ILEUS."
   ]
  },
  {
   "cell_type": "code",
   "execution_count": 32,
   "metadata": {
    "collapsed": false
   },
   "outputs": [
    {
     "data": {
      "text/html": [
       "<div>\n",
       "<table border=\"1\" class=\"dataframe\">\n",
       "  <thead>\n",
       "    <tr style=\"text-align: right;\">\n",
       "      <th>PLIF_ILEUS</th>\n",
       "      <th>0.0</th>\n",
       "      <th>1.0</th>\n",
       "    </tr>\n",
       "    <tr>\n",
       "      <th>MI_NPOA</th>\n",
       "      <th></th>\n",
       "      <th></th>\n",
       "    </tr>\n",
       "  </thead>\n",
       "  <tbody>\n",
       "    <tr>\n",
       "      <th>0.0</th>\n",
       "      <td>304465</td>\n",
       "      <td>790</td>\n",
       "    </tr>\n",
       "    <tr>\n",
       "      <th>1.0</th>\n",
       "      <td>2863</td>\n",
       "      <td>1</td>\n",
       "    </tr>\n",
       "  </tbody>\n",
       "</table>\n",
       "</div>"
      ],
      "text/plain": [
       "PLIF_ILEUS     0.0  1.0\n",
       "MI_NPOA                \n",
       "0.0         304465  790\n",
       "1.0           2863    1"
      ]
     },
     "execution_count": 32,
     "metadata": {},
     "output_type": "execute_result"
    }
   ],
   "source": [
    "ct_PLIF_MI = pd.crosstab(CAData.MI_NPOA,CAData.PLIF_ILEUS); ct_PLIF_MI"
   ]
  },
  {
   "cell_type": "code",
   "execution_count": 33,
   "metadata": {
    "collapsed": false
   },
   "outputs": [
    {
     "data": {
      "text/html": [
       "<div>\n",
       "<table border=\"1\" class=\"dataframe\">\n",
       "  <thead>\n",
       "    <tr style=\"text-align: right;\">\n",
       "      <th>PLIF_ILEUS</th>\n",
       "      <th>0.0</th>\n",
       "      <th>1.0</th>\n",
       "    </tr>\n",
       "    <tr>\n",
       "      <th>MI_NPOA</th>\n",
       "      <th></th>\n",
       "      <th></th>\n",
       "    </tr>\n",
       "  </thead>\n",
       "  <tbody>\n",
       "    <tr>\n",
       "      <th>0.0</th>\n",
       "      <td>0.990684</td>\n",
       "      <td>0.998736</td>\n",
       "    </tr>\n",
       "    <tr>\n",
       "      <th>1.0</th>\n",
       "      <td>0.009316</td>\n",
       "      <td>0.001264</td>\n",
       "    </tr>\n",
       "  </tbody>\n",
       "</table>\n",
       "</div>"
      ],
      "text/plain": [
       "PLIF_ILEUS       0.0       1.0\n",
       "MI_NPOA                       \n",
       "0.0         0.990684  0.998736\n",
       "1.0         0.009316  0.001264"
      ]
     },
     "execution_count": 33,
     "metadata": {},
     "output_type": "execute_result"
    }
   ],
   "source": [
    "pd.crosstab(CAData.MI_NPOA,CAData.PLIF_ILEUS).apply(lambda x: x/x.sum(), 0)\n"
   ]
  },
  {
   "cell_type": "code",
   "execution_count": 34,
   "metadata": {
    "collapsed": false
   },
   "outputs": [
    {
     "name": "stdout",
     "output_type": "stream",
     "text": [
      "Odds ratio: 0.134613599084\n"
     ]
    }
   ],
   "source": [
    "print('Odds ratio:', stats.fisher_exact(ct_PLIF_MI)[0])"
   ]
  },
  {
   "cell_type": "code",
   "execution_count": 35,
   "metadata": {
    "collapsed": false
   },
   "outputs": [
    {
     "data": {
      "text/plain": [
       "'\\nprop.test(c(2863,1),c(307328,791))\\n\\n2-sample test for equality of proportions with continuity correction\\n\\ndata:  c(2863, 1) out of c(307328, 791)\\nX-squared = 4.7143, df = 1, p-value = 0.02991\\nalternative hypothesis: two.sided\\n95 percent confidence interval:\\n0.004918371 0.011184744\\nsample estimates:\\n    prop 1      prop 2 \\n0.009315780 0.001264223 \\n'"
      ]
     },
     "execution_count": 35,
     "metadata": {},
     "output_type": "execute_result"
    }
   ],
   "source": [
    "#Implemented the hypothesis test in R\n",
    "'''\n",
    "prop.test(c(2863,1),c(307328,791))\n",
    "\n",
    "2-sample test for equality of proportions with continuity correction\n",
    "\n",
    "data:  c(2863, 1) out of c(307328, 791)\n",
    "X-squared = 4.7143, df = 1, p-value = 0.02991\n",
    "alternative hypothesis: two.sided\n",
    "95 percent confidence interval:\n",
    "0.004918371 0.011184744\n",
    "sample estimates:\n",
    "    prop 1      prop 2 \n",
    "0.009315780 0.001264223 \n",
    "'''\n",
    "#significant"
   ]
  },
  {
   "cell_type": "markdown",
   "metadata": {
    "collapsed": true
   },
   "source": [
    "### CERVICAL_COMBINED(ACDF and CLAM)"
   ]
  },
  {
   "cell_type": "code",
   "execution_count": 36,
   "metadata": {
    "collapsed": true
   },
   "outputs": [],
   "source": [
    "def cervical_combined(x,y):\n",
    "    return(x+y)//2"
   ]
  },
  {
   "cell_type": "code",
   "execution_count": 37,
   "metadata": {
    "collapsed": true
   },
   "outputs": [],
   "source": [
    "CAData.Combined=cervical_combined(CAData.ACDF, CAData.CLAM)"
   ]
  },
  {
   "cell_type": "markdown",
   "metadata": {
    "collapsed": true
   },
   "source": [
    "### 7).Comparing CERVICAL_COMBINED vs MI_NPOA to see if there is a higher rate of MI for patients that undergo CERVICAL_COMBINED."
   ]
  },
  {
   "cell_type": "code",
   "execution_count": 38,
   "metadata": {
    "collapsed": false
   },
   "outputs": [
    {
     "data": {
      "text/html": [
       "<div>\n",
       "<table border=\"1\" class=\"dataframe\">\n",
       "  <thead>\n",
       "    <tr style=\"text-align: right;\">\n",
       "      <th>col_0</th>\n",
       "      <th>0.0</th>\n",
       "      <th>1.0</th>\n",
       "    </tr>\n",
       "    <tr>\n",
       "      <th>MI_NPOA</th>\n",
       "      <th></th>\n",
       "      <th></th>\n",
       "    </tr>\n",
       "  </thead>\n",
       "  <tbody>\n",
       "    <tr>\n",
       "      <th>0.0</th>\n",
       "      <td>301647</td>\n",
       "      <td>3608</td>\n",
       "    </tr>\n",
       "    <tr>\n",
       "      <th>1.0</th>\n",
       "      <td>2840</td>\n",
       "      <td>24</td>\n",
       "    </tr>\n",
       "  </tbody>\n",
       "</table>\n",
       "</div>"
      ],
      "text/plain": [
       "col_0       0.0   1.0\n",
       "MI_NPOA              \n",
       "0.0      301647  3608\n",
       "1.0        2840    24"
      ]
     },
     "execution_count": 38,
     "metadata": {},
     "output_type": "execute_result"
    }
   ],
   "source": [
    "ct_Combined_MI = pd.crosstab(CAData.MI_NPOA,CAData.Combined); ct_Combined_MI"
   ]
  },
  {
   "cell_type": "code",
   "execution_count": 39,
   "metadata": {
    "collapsed": false
   },
   "outputs": [
    {
     "data": {
      "text/html": [
       "<div>\n",
       "<table border=\"1\" class=\"dataframe\">\n",
       "  <thead>\n",
       "    <tr style=\"text-align: right;\">\n",
       "      <th>col_0</th>\n",
       "      <th>0.0</th>\n",
       "      <th>1.0</th>\n",
       "    </tr>\n",
       "    <tr>\n",
       "      <th>MI_NPOA</th>\n",
       "      <th></th>\n",
       "      <th></th>\n",
       "    </tr>\n",
       "  </thead>\n",
       "  <tbody>\n",
       "    <tr>\n",
       "      <th>0.0</th>\n",
       "      <td>0.990673</td>\n",
       "      <td>0.993392</td>\n",
       "    </tr>\n",
       "    <tr>\n",
       "      <th>1.0</th>\n",
       "      <td>0.009327</td>\n",
       "      <td>0.006608</td>\n",
       "    </tr>\n",
       "  </tbody>\n",
       "</table>\n",
       "</div>"
      ],
      "text/plain": [
       "col_0         0.0       1.0\n",
       "MI_NPOA                    \n",
       "0.0      0.990673  0.993392\n",
       "1.0      0.009327  0.006608"
      ]
     },
     "execution_count": 39,
     "metadata": {},
     "output_type": "execute_result"
    }
   ],
   "source": [
    "pd.crosstab(CAData.MI_NPOA,CAData.Combined).apply(lambda x: x/x.sum(), 0)\n"
   ]
  },
  {
   "cell_type": "code",
   "execution_count": 40,
   "metadata": {
    "collapsed": false
   },
   "outputs": [
    {
     "name": "stdout",
     "output_type": "stream",
     "text": [
      "Odds ratio: 0.706521501515\n"
     ]
    }
   ],
   "source": [
    "print('Odds ratio:', stats.fisher_exact(ct_Combined_MI)[0])"
   ]
  },
  {
   "cell_type": "code",
   "execution_count": 41,
   "metadata": {
    "collapsed": false
   },
   "outputs": [
    {
     "data": {
      "text/plain": [
       "'\\nprop.test(c(2840,24),c(304487,3632))\\n\\n2-sample test for equality of proportions with continuity correction\\n\\ndata:  c(2840, 24) out of c(304487, 3632)\\nX-squared = 2.5943, df = 1, p-value = 0.1073\\nalternative hypothesis: two.sided\\n95 percent confidence interval:\\n-7.702731e-05  5.515495e-03\\nsample estimates:\\n    prop 1      prop 2 \\n0.009327163 0.006607930 \\n'"
      ]
     },
     "execution_count": 41,
     "metadata": {},
     "output_type": "execute_result"
    }
   ],
   "source": [
    "#Implemented the hypothesis test in R\n",
    "'''\n",
    "prop.test(c(2840,24),c(304487,3632))\n",
    "\n",
    "2-sample test for equality of proportions with continuity correction\n",
    "\n",
    "data:  c(2840, 24) out of c(304487, 3632)\n",
    "X-squared = 2.5943, df = 1, p-value = 0.1073\n",
    "alternative hypothesis: two.sided\n",
    "95 percent confidence interval:\n",
    "-7.702731e-05  5.515495e-03\n",
    "sample estimates:\n",
    "    prop 1      prop 2 \n",
    "0.009327163 0.006607930 \n",
    "'''\n",
    "#insignificant"
   ]
  },
  {
   "cell_type": "markdown",
   "metadata": {
    "collapsed": true
   },
   "source": [
    "### 8). Comparing COMBINED(Anterior/posterior thoracic/lumbar fusion) vs MI_NPOA to see if there is a higher rate of MI for patients that undergo COMBINED(Anterior/posterior thoracic/lumbar fusion)."
   ]
  },
  {
   "cell_type": "code",
   "execution_count": 42,
   "metadata": {
    "collapsed": false
   },
   "outputs": [
    {
     "data": {
      "text/html": [
       "<div>\n",
       "<table border=\"1\" class=\"dataframe\">\n",
       "  <thead>\n",
       "    <tr style=\"text-align: right;\">\n",
       "      <th>COMBINED</th>\n",
       "      <th>0.0</th>\n",
       "      <th>1.0</th>\n",
       "    </tr>\n",
       "    <tr>\n",
       "      <th>MI_NPOA</th>\n",
       "      <th></th>\n",
       "      <th></th>\n",
       "    </tr>\n",
       "  </thead>\n",
       "  <tbody>\n",
       "    <tr>\n",
       "      <th>0.0</th>\n",
       "      <td>301540</td>\n",
       "      <td>3715</td>\n",
       "    </tr>\n",
       "    <tr>\n",
       "      <th>1.0</th>\n",
       "      <td>2853</td>\n",
       "      <td>11</td>\n",
       "    </tr>\n",
       "  </tbody>\n",
       "</table>\n",
       "</div>"
      ],
      "text/plain": [
       "COMBINED     0.0   1.0\n",
       "MI_NPOA               \n",
       "0.0       301540  3715\n",
       "1.0         2853    11"
      ]
     },
     "execution_count": 42,
     "metadata": {},
     "output_type": "execute_result"
    }
   ],
   "source": [
    "ct_COMBINED_MI = pd.crosstab(CAData.MI_NPOA,CAData.COMBINED); ct_COMBINED_MI"
   ]
  },
  {
   "cell_type": "code",
   "execution_count": 43,
   "metadata": {
    "collapsed": false
   },
   "outputs": [
    {
     "data": {
      "text/html": [
       "<div>\n",
       "<table border=\"1\" class=\"dataframe\">\n",
       "  <thead>\n",
       "    <tr style=\"text-align: right;\">\n",
       "      <th>COMBINED</th>\n",
       "      <th>0.0</th>\n",
       "      <th>1.0</th>\n",
       "    </tr>\n",
       "    <tr>\n",
       "      <th>MI_NPOA</th>\n",
       "      <th></th>\n",
       "      <th></th>\n",
       "    </tr>\n",
       "  </thead>\n",
       "  <tbody>\n",
       "    <tr>\n",
       "      <th>0.0</th>\n",
       "      <td>0.990627</td>\n",
       "      <td>0.997048</td>\n",
       "    </tr>\n",
       "    <tr>\n",
       "      <th>1.0</th>\n",
       "      <td>0.009373</td>\n",
       "      <td>0.002952</td>\n",
       "    </tr>\n",
       "  </tbody>\n",
       "</table>\n",
       "</div>"
      ],
      "text/plain": [
       "COMBINED       0.0       1.0\n",
       "MI_NPOA                     \n",
       "0.0       0.990627  0.997048\n",
       "1.0       0.009373  0.002952"
      ]
     },
     "execution_count": 43,
     "metadata": {},
     "output_type": "execute_result"
    }
   ],
   "source": [
    "pd.crosstab(CAData.MI_NPOA,CAData.COMBINED).apply(lambda x: x/x.sum(), 0)\n"
   ]
  },
  {
   "cell_type": "code",
   "execution_count": 44,
   "metadata": {
    "collapsed": false
   },
   "outputs": [
    {
     "name": "stdout",
     "output_type": "stream",
     "text": [
      "Odds ratio: 0.312951491641\n"
     ]
    }
   ],
   "source": [
    "print('Odds ratio:', stats.fisher_exact(ct_COMBINED_MI)[0])"
   ]
  },
  {
   "cell_type": "code",
   "execution_count": 45,
   "metadata": {
    "collapsed": false
   },
   "outputs": [
    {
     "data": {
      "text/plain": [
       "'\\nprop.test(c(2853,11),c(304393,3726))\\n\\n2-sample test for equality of proportions with continuity correction\\n\\ndata:  c(2853, 11) out of c(304393, 3726)\\nX-squared = 15.788, df = 1, p-value = 7.085e-05\\nalternative hypothesis: two.sided\\n95 percent confidence interval:\\n0.004509330 0.008331718\\nsample estimates:\\n    prop 1      prop 2 \\n0.009372752 0.002952228 \\n'"
      ]
     },
     "execution_count": 45,
     "metadata": {},
     "output_type": "execute_result"
    }
   ],
   "source": [
    "#Implemented the hypothesis test in R\n",
    "'''\n",
    "prop.test(c(2853,11),c(304393,3726))\n",
    "\n",
    "2-sample test for equality of proportions with continuity correction\n",
    "\n",
    "data:  c(2853, 11) out of c(304393, 3726)\n",
    "X-squared = 15.788, df = 1, p-value = 7.085e-05\n",
    "alternative hypothesis: two.sided\n",
    "95 percent confidence interval:\n",
    "0.004509330 0.008331718\n",
    "sample estimates:\n",
    "    prop 1      prop 2 \n",
    "0.009372752 0.002952228 \n",
    "'''\n",
    "#significant"
   ]
  },
  {
   "cell_type": "markdown",
   "metadata": {
    "collapsed": true
   },
   "source": [
    "### 9).Comparing ACDF_ILEUS vs Sepsis_NPOA to see if there is a higher rate of Sepsis for patients that undergo ACDF_ILEUS."
   ]
  },
  {
   "cell_type": "code",
   "execution_count": 46,
   "metadata": {
    "collapsed": false
   },
   "outputs": [
    {
     "data": {
      "text/html": [
       "<div>\n",
       "<table border=\"1\" class=\"dataframe\">\n",
       "  <thead>\n",
       "    <tr style=\"text-align: right;\">\n",
       "      <th>ACDF_ILEUS</th>\n",
       "      <th>0.0</th>\n",
       "      <th>1.0</th>\n",
       "    </tr>\n",
       "    <tr>\n",
       "      <th>Sepsis_NPOA</th>\n",
       "      <th></th>\n",
       "      <th></th>\n",
       "    </tr>\n",
       "  </thead>\n",
       "  <tbody>\n",
       "    <tr>\n",
       "      <th>0.0</th>\n",
       "      <td>292716</td>\n",
       "      <td>182</td>\n",
       "    </tr>\n",
       "    <tr>\n",
       "      <th>1.0</th>\n",
       "      <td>15198</td>\n",
       "      <td>23</td>\n",
       "    </tr>\n",
       "  </tbody>\n",
       "</table>\n",
       "</div>"
      ],
      "text/plain": [
       "ACDF_ILEUS      0.0  1.0\n",
       "Sepsis_NPOA             \n",
       "0.0          292716  182\n",
       "1.0           15198   23"
      ]
     },
     "execution_count": 46,
     "metadata": {},
     "output_type": "execute_result"
    }
   ],
   "source": [
    "ct_ACDF_Sepsis = pd.crosstab(CAData.Sepsis_NPOA,CAData.ACDF_ILEUS); ct_ACDF_Sepsis"
   ]
  },
  {
   "cell_type": "code",
   "execution_count": 47,
   "metadata": {
    "collapsed": false
   },
   "outputs": [
    {
     "data": {
      "text/html": [
       "<div>\n",
       "<table border=\"1\" class=\"dataframe\">\n",
       "  <thead>\n",
       "    <tr style=\"text-align: right;\">\n",
       "      <th>ACDF_ILEUS</th>\n",
       "      <th>0.0</th>\n",
       "      <th>1.0</th>\n",
       "    </tr>\n",
       "    <tr>\n",
       "      <th>Sepsis_NPOA</th>\n",
       "      <th></th>\n",
       "      <th></th>\n",
       "    </tr>\n",
       "  </thead>\n",
       "  <tbody>\n",
       "    <tr>\n",
       "      <th>0.0</th>\n",
       "      <td>0.950642</td>\n",
       "      <td>0.887805</td>\n",
       "    </tr>\n",
       "    <tr>\n",
       "      <th>1.0</th>\n",
       "      <td>0.049358</td>\n",
       "      <td>0.112195</td>\n",
       "    </tr>\n",
       "  </tbody>\n",
       "</table>\n",
       "</div>"
      ],
      "text/plain": [
       "ACDF_ILEUS        0.0       1.0\n",
       "Sepsis_NPOA                    \n",
       "0.0          0.950642  0.887805\n",
       "1.0          0.049358  0.112195"
      ]
     },
     "execution_count": 47,
     "metadata": {},
     "output_type": "execute_result"
    }
   ],
   "source": [
    "pd.crosstab(CAData.Sepsis_NPOA,CAData.ACDF_ILEUS).apply(lambda x: x/x.sum(), 0)\n"
   ]
  },
  {
   "cell_type": "code",
   "execution_count": 48,
   "metadata": {
    "collapsed": false
   },
   "outputs": [
    {
     "name": "stdout",
     "output_type": "stream",
     "text": [
      "Odds ratio: 2.43397699813\n"
     ]
    }
   ],
   "source": [
    "print('Odds ratio:', stats.fisher_exact(ct_ACDF_Sepsis)[0])\n"
   ]
  },
  {
   "cell_type": "code",
   "execution_count": 49,
   "metadata": {
    "collapsed": false
   },
   "outputs": [
    {
     "data": {
      "text/plain": [
       "'\\n> prop.test(c(15198,23),c(307914,205))\\n\\n2-sample test for equality of proportions with continuity correction\\n\\ndata:  c(15198, 23) out of c(307914, 205)\\nX-squared = 15.914, df = 1, p-value = 6.63e-05\\nalternative hypothesis: two.sided\\n95 percent confidence interval:\\n -0.10848791 -0.01718646\\nsample estimates:\\n    prop 1     prop 2 \\n0.04935794 0.11219512 \\n'"
      ]
     },
     "execution_count": 49,
     "metadata": {},
     "output_type": "execute_result"
    }
   ],
   "source": [
    "#Implemented the hypothesis test in R\n",
    "'''\n",
    "> prop.test(c(15198,23),c(307914,205))\n",
    "\n",
    "2-sample test for equality of proportions with continuity correction\n",
    "\n",
    "data:  c(15198, 23) out of c(307914, 205)\n",
    "X-squared = 15.914, df = 1, p-value = 6.63e-05\n",
    "alternative hypothesis: two.sided\n",
    "95 percent confidence interval:\n",
    " -0.10848791 -0.01718646\n",
    "sample estimates:\n",
    "    prop 1     prop 2 \n",
    "0.04935794 0.11219512 \n",
    "'''\n",
    "#significant"
   ]
  },
  {
   "cell_type": "markdown",
   "metadata": {
    "collapsed": true
   },
   "source": [
    "### 10). Comparing CLAM_ILEUS vs Sepsis_NPOA to see if there is a higher rate of Sepsis for patients that undergo CLAM_ILEUS."
   ]
  },
  {
   "cell_type": "code",
   "execution_count": 50,
   "metadata": {
    "collapsed": false
   },
   "outputs": [
    {
     "data": {
      "text/html": [
       "<div>\n",
       "<table border=\"1\" class=\"dataframe\">\n",
       "  <thead>\n",
       "    <tr style=\"text-align: right;\">\n",
       "      <th>CLAM_ILEUS</th>\n",
       "      <th>0.0</th>\n",
       "      <th>1.0</th>\n",
       "    </tr>\n",
       "    <tr>\n",
       "      <th>Sepsis_NPOA</th>\n",
       "      <th></th>\n",
       "      <th></th>\n",
       "    </tr>\n",
       "  </thead>\n",
       "  <tbody>\n",
       "    <tr>\n",
       "      <th>0.0</th>\n",
       "      <td>292752</td>\n",
       "      <td>146</td>\n",
       "    </tr>\n",
       "    <tr>\n",
       "      <th>1.0</th>\n",
       "      <td>15200</td>\n",
       "      <td>21</td>\n",
       "    </tr>\n",
       "  </tbody>\n",
       "</table>\n",
       "</div>"
      ],
      "text/plain": [
       "CLAM_ILEUS      0.0  1.0\n",
       "Sepsis_NPOA             \n",
       "0.0          292752  146\n",
       "1.0           15200   21"
      ]
     },
     "execution_count": 50,
     "metadata": {},
     "output_type": "execute_result"
    }
   ],
   "source": [
    "ct_CLAM_Sepsis = pd.crosstab(CAData.Sepsis_NPOA,CAData.CLAM_ILEUS); ct_CLAM_Sepsis\n"
   ]
  },
  {
   "cell_type": "code",
   "execution_count": 51,
   "metadata": {
    "collapsed": false
   },
   "outputs": [
    {
     "data": {
      "text/html": [
       "<div>\n",
       "<table border=\"1\" class=\"dataframe\">\n",
       "  <thead>\n",
       "    <tr style=\"text-align: right;\">\n",
       "      <th>CLAM_ILEUS</th>\n",
       "      <th>0.0</th>\n",
       "      <th>1.0</th>\n",
       "    </tr>\n",
       "    <tr>\n",
       "      <th>Sepsis_NPOA</th>\n",
       "      <th></th>\n",
       "      <th></th>\n",
       "    </tr>\n",
       "  </thead>\n",
       "  <tbody>\n",
       "    <tr>\n",
       "      <th>0.0</th>\n",
       "      <td>0.950642</td>\n",
       "      <td>0.874251</td>\n",
       "    </tr>\n",
       "    <tr>\n",
       "      <th>1.0</th>\n",
       "      <td>0.049358</td>\n",
       "      <td>0.125749</td>\n",
       "    </tr>\n",
       "  </tbody>\n",
       "</table>\n",
       "</div>"
      ],
      "text/plain": [
       "CLAM_ILEUS        0.0       1.0\n",
       "Sepsis_NPOA                    \n",
       "0.0          0.950642  0.874251\n",
       "1.0          0.049358  0.125749"
      ]
     },
     "execution_count": 51,
     "metadata": {},
     "output_type": "execute_result"
    }
   ],
   "source": [
    "pd.crosstab(CAData.Sepsis_NPOA,CAData.CLAM_ILEUS).apply(lambda x: x/x.sum(), 0)\n"
   ]
  },
  {
   "cell_type": "code",
   "execution_count": 52,
   "metadata": {
    "collapsed": false
   },
   "outputs": [
    {
     "name": "stdout",
     "output_type": "stream",
     "text": [
      "Odds ratio: 2.7702739726\n"
     ]
    }
   ],
   "source": [
    "print('Odds ratio:', stats.fisher_exact(ct_CLAM_Sepsis)[0])\n"
   ]
  },
  {
   "cell_type": "code",
   "execution_count": 53,
   "metadata": {
    "collapsed": false
   },
   "outputs": [
    {
     "data": {
      "text/plain": [
       "'\\n> prop.test(c(15200,21),c(307952,167))\\n\\n2-sample test for equality of proportions with continuity correction\\n\\ndata:  c(15200, 21) out of c(307952, 167)\\nX-squared = 19.146, df = 1, p-value = 1.211e-05\\nalternative hypothesis: two.sided\\n95 percent confidence interval:\\n -0.12967905 -0.02310127\\nsample estimates:\\n    prop 1     prop 2 \\n0.04935834 0.12574850 \\n'"
      ]
     },
     "execution_count": 53,
     "metadata": {},
     "output_type": "execute_result"
    }
   ],
   "source": [
    "#Implemented the hypothesis test in R\n",
    "'''\n",
    "> prop.test(c(15200,21),c(307952,167))\n",
    "\n",
    "2-sample test for equality of proportions with continuity correction\n",
    "\n",
    "data:  c(15200, 21) out of c(307952, 167)\n",
    "X-squared = 19.146, df = 1, p-value = 1.211e-05\n",
    "alternative hypothesis: two.sided\n",
    "95 percent confidence interval:\n",
    " -0.12967905 -0.02310127\n",
    "sample estimates:\n",
    "    prop 1     prop 2 \n",
    "0.04935834 0.12574850 \n",
    "'''\n",
    "#significant\n",
    "\n"
   ]
  },
  {
   "cell_type": "markdown",
   "metadata": {
    "collapsed": true
   },
   "source": [
    "### 11). Comparing LONG_ILEUS vs Sepsis_NPOA to see if there is a higher rate of Sepsis for patients that undergo LONG_ILEUS."
   ]
  },
  {
   "cell_type": "code",
   "execution_count": 54,
   "metadata": {
    "collapsed": false
   },
   "outputs": [
    {
     "data": {
      "text/html": [
       "<div>\n",
       "<table border=\"1\" class=\"dataframe\">\n",
       "  <thead>\n",
       "    <tr style=\"text-align: right;\">\n",
       "      <th>LONG_ILEUS</th>\n",
       "      <th>0.0</th>\n",
       "      <th>1.0</th>\n",
       "    </tr>\n",
       "    <tr>\n",
       "      <th>Sepsis_NPOA</th>\n",
       "      <th></th>\n",
       "      <th></th>\n",
       "    </tr>\n",
       "  </thead>\n",
       "  <tbody>\n",
       "    <tr>\n",
       "      <th>0.0</th>\n",
       "      <td>291284</td>\n",
       "      <td>1614</td>\n",
       "    </tr>\n",
       "    <tr>\n",
       "      <th>1.0</th>\n",
       "      <td>15164</td>\n",
       "      <td>57</td>\n",
       "    </tr>\n",
       "  </tbody>\n",
       "</table>\n",
       "</div>"
      ],
      "text/plain": [
       "LONG_ILEUS      0.0   1.0\n",
       "Sepsis_NPOA              \n",
       "0.0          291284  1614\n",
       "1.0           15164    57"
      ]
     },
     "execution_count": 54,
     "metadata": {},
     "output_type": "execute_result"
    }
   ],
   "source": [
    "ct_LONG_Sepsis = pd.crosstab(CAData.Sepsis_NPOA,CAData.LONG_ILEUS); ct_LONG_Sepsis\n"
   ]
  },
  {
   "cell_type": "code",
   "execution_count": 55,
   "metadata": {
    "collapsed": false
   },
   "outputs": [
    {
     "data": {
      "text/html": [
       "<div>\n",
       "<table border=\"1\" class=\"dataframe\">\n",
       "  <thead>\n",
       "    <tr style=\"text-align: right;\">\n",
       "      <th>LONG_ILEUS</th>\n",
       "      <th>0.0</th>\n",
       "      <th>1.0</th>\n",
       "    </tr>\n",
       "    <tr>\n",
       "      <th>Sepsis_NPOA</th>\n",
       "      <th></th>\n",
       "      <th></th>\n",
       "    </tr>\n",
       "  </thead>\n",
       "  <tbody>\n",
       "    <tr>\n",
       "      <th>0.0</th>\n",
       "      <td>0.950517</td>\n",
       "      <td>0.965889</td>\n",
       "    </tr>\n",
       "    <tr>\n",
       "      <th>1.0</th>\n",
       "      <td>0.049483</td>\n",
       "      <td>0.034111</td>\n",
       "    </tr>\n",
       "  </tbody>\n",
       "</table>\n",
       "</div>"
      ],
      "text/plain": [
       "LONG_ILEUS        0.0       1.0\n",
       "Sepsis_NPOA                    \n",
       "0.0          0.950517  0.965889\n",
       "1.0          0.049483  0.034111"
      ]
     },
     "execution_count": 55,
     "metadata": {},
     "output_type": "execute_result"
    }
   ],
   "source": [
    "pd.crosstab(CAData.Sepsis_NPOA,CAData.LONG_ILEUS).apply(lambda x: x/x.sum(), 0)\n"
   ]
  },
  {
   "cell_type": "code",
   "execution_count": 56,
   "metadata": {
    "collapsed": false
   },
   "outputs": [
    {
     "name": "stdout",
     "output_type": "stream",
     "text": [
      "Odds ratio: 0.678381786642\n"
     ]
    }
   ],
   "source": [
    "print('Odds ratio:', stats.fisher_exact(ct_LONG_Sepsis)[0])\n"
   ]
  },
  {
   "cell_type": "code",
   "execution_count": 57,
   "metadata": {
    "collapsed": false
   },
   "outputs": [
    {
     "data": {
      "text/plain": [
       "'\\n> prop.test(c(15164,57),c(306448,1671))\\n\\n2-sample test for equality of proportions with continuity correction\\n\\ndata:  c(15164, 57) out of c(306448, 1671)\\nX-squared = 8.0385, df = 1, p-value = 0.004579\\nalternative hypothesis: two.sided\\n95 percent confidence interval:\\n 0.006334065 0.024409533\\nsample estimates:\\n    prop 1     prop 2 \\n0.04948311 0.03411131 \\n'"
      ]
     },
     "execution_count": 57,
     "metadata": {},
     "output_type": "execute_result"
    }
   ],
   "source": [
    "#Implemented the hypothesis test in R\n",
    "'''\n",
    "> prop.test(c(15164,57),c(306448,1671))\n",
    "\n",
    "2-sample test for equality of proportions with continuity correction\n",
    "\n",
    "data:  c(15164, 57) out of c(306448, 1671)\n",
    "X-squared = 8.0385, df = 1, p-value = 0.004579\n",
    "alternative hypothesis: two.sided\n",
    "95 percent confidence interval:\n",
    " 0.006334065 0.024409533\n",
    "sample estimates:\n",
    "    prop 1     prop 2 \n",
    "0.04948311 0.03411131 \n",
    "'''\n",
    "#significant"
   ]
  },
  {
   "cell_type": "markdown",
   "metadata": {
    "collapsed": true
   },
   "source": [
    "### 12). Comparing SHORT_ILEUS vs Sepsis_NPOA to see if there is a higher rate of Sepsis for patients that undergo SHORT_ILEUS."
   ]
  },
  {
   "cell_type": "code",
   "execution_count": 58,
   "metadata": {
    "collapsed": false
   },
   "outputs": [
    {
     "data": {
      "text/html": [
       "<div>\n",
       "<table border=\"1\" class=\"dataframe\">\n",
       "  <thead>\n",
       "    <tr style=\"text-align: right;\">\n",
       "      <th>SHORT_ILEUS</th>\n",
       "      <th>0.0</th>\n",
       "      <th>1.0</th>\n",
       "    </tr>\n",
       "    <tr>\n",
       "      <th>Sepsis_NPOA</th>\n",
       "      <th></th>\n",
       "      <th></th>\n",
       "    </tr>\n",
       "  </thead>\n",
       "  <tbody>\n",
       "    <tr>\n",
       "      <th>0.0</th>\n",
       "      <td>289211</td>\n",
       "      <td>3687</td>\n",
       "    </tr>\n",
       "    <tr>\n",
       "      <th>1.0</th>\n",
       "      <td>15126</td>\n",
       "      <td>95</td>\n",
       "    </tr>\n",
       "  </tbody>\n",
       "</table>\n",
       "</div>"
      ],
      "text/plain": [
       "SHORT_ILEUS     0.0   1.0\n",
       "Sepsis_NPOA              \n",
       "0.0          289211  3687\n",
       "1.0           15126    95"
      ]
     },
     "execution_count": 58,
     "metadata": {},
     "output_type": "execute_result"
    }
   ],
   "source": [
    "ct_SHORT_Sepsis = pd.crosstab(CAData.Sepsis_NPOA,CAData.SHORT_ILEUS); ct_SHORT_Sepsis\n"
   ]
  },
  {
   "cell_type": "code",
   "execution_count": 59,
   "metadata": {
    "collapsed": false
   },
   "outputs": [
    {
     "data": {
      "text/html": [
       "<div>\n",
       "<table border=\"1\" class=\"dataframe\">\n",
       "  <thead>\n",
       "    <tr style=\"text-align: right;\">\n",
       "      <th>SHORT_ILEUS</th>\n",
       "      <th>0.0</th>\n",
       "      <th>1.0</th>\n",
       "    </tr>\n",
       "    <tr>\n",
       "      <th>Sepsis_NPOA</th>\n",
       "      <th></th>\n",
       "      <th></th>\n",
       "    </tr>\n",
       "  </thead>\n",
       "  <tbody>\n",
       "    <tr>\n",
       "      <th>0.0</th>\n",
       "      <td>0.950299</td>\n",
       "      <td>0.974881</td>\n",
       "    </tr>\n",
       "    <tr>\n",
       "      <th>1.0</th>\n",
       "      <td>0.049701</td>\n",
       "      <td>0.025119</td>\n",
       "    </tr>\n",
       "  </tbody>\n",
       "</table>\n",
       "</div>"
      ],
      "text/plain": [
       "SHORT_ILEUS       0.0       1.0\n",
       "Sepsis_NPOA                    \n",
       "0.0          0.950299  0.974881\n",
       "1.0          0.049701  0.025119"
      ]
     },
     "execution_count": 59,
     "metadata": {},
     "output_type": "execute_result"
    }
   ],
   "source": [
    "pd.crosstab(CAData.Sepsis_NPOA,CAData.SHORT_ILEUS).apply(lambda x: x/x.sum(), 0)\n"
   ]
  },
  {
   "cell_type": "code",
   "execution_count": 60,
   "metadata": {
    "collapsed": false
   },
   "outputs": [
    {
     "name": "stdout",
     "output_type": "stream",
     "text": [
      "Odds ratio: 0.492653053291\n"
     ]
    }
   ],
   "source": [
    "print('Odds ratio:', stats.fisher_exact(ct_SHORT_Sepsis)[0])\n"
   ]
  },
  {
   "cell_type": "code",
   "execution_count": 61,
   "metadata": {
    "collapsed": false
   },
   "outputs": [
    {
     "data": {
      "text/plain": [
       "'\\n> prop.test(c(15126,95),c(304337,3782))\\n\\n2-sample test for equality of proportions with continuity correction\\n\\ndata:  c(15126, 95) out of c(304337, 3782)\\nX-squared = 47.549, df = 1, p-value = 5.364e-12\\nalternative hypothesis: two.sided\\n95 percent confidence interval:\\n 0.01940195 0.02976305\\nsample estimates:\\n    prop 1     prop 2 \\n0.04970148 0.02511898 \\n'"
      ]
     },
     "execution_count": 61,
     "metadata": {},
     "output_type": "execute_result"
    }
   ],
   "source": [
    "#Implemented the hypothesis test in R\n",
    "'''\n",
    "> prop.test(c(15126,95),c(304337,3782))\n",
    "\n",
    "2-sample test for equality of proportions with continuity correction\n",
    "\n",
    "data:  c(15126, 95) out of c(304337, 3782)\n",
    "X-squared = 47.549, df = 1, p-value = 5.364e-12\n",
    "alternative hypothesis: two.sided\n",
    "95 percent confidence interval:\n",
    " 0.01940195 0.02976305\n",
    "sample estimates:\n",
    "    prop 1     prop 2 \n",
    "0.04970148 0.02511898 \n",
    "'''\n",
    "#significant\n",
    "\n"
   ]
  },
  {
   "cell_type": "markdown",
   "metadata": {
    "collapsed": true
   },
   "source": [
    "### 13). Comparing ALIF_ILEUS vs Sepsis_NPOA to see if there is a higher rate of Sepsis for patients that undergo ALIF_ILEUS."
   ]
  },
  {
   "cell_type": "code",
   "execution_count": 62,
   "metadata": {
    "collapsed": false
   },
   "outputs": [
    {
     "data": {
      "text/html": [
       "<div>\n",
       "<table border=\"1\" class=\"dataframe\">\n",
       "  <thead>\n",
       "    <tr style=\"text-align: right;\">\n",
       "      <th>ALIF_ILEUS</th>\n",
       "      <th>0.0</th>\n",
       "      <th>1.0</th>\n",
       "    </tr>\n",
       "    <tr>\n",
       "      <th>Sepsis_NPOA</th>\n",
       "      <th></th>\n",
       "      <th></th>\n",
       "    </tr>\n",
       "  </thead>\n",
       "  <tbody>\n",
       "    <tr>\n",
       "      <th>0.0</th>\n",
       "      <td>290610</td>\n",
       "      <td>2288</td>\n",
       "    </tr>\n",
       "    <tr>\n",
       "      <th>1.0</th>\n",
       "      <td>15181</td>\n",
       "      <td>40</td>\n",
       "    </tr>\n",
       "  </tbody>\n",
       "</table>\n",
       "</div>"
      ],
      "text/plain": [
       "ALIF_ILEUS      0.0   1.0\n",
       "Sepsis_NPOA              \n",
       "0.0          290610  2288\n",
       "1.0           15181    40"
      ]
     },
     "execution_count": 62,
     "metadata": {},
     "output_type": "execute_result"
    }
   ],
   "source": [
    "ct_ALIF_Sepsis = pd.crosstab(CAData.Sepsis_NPOA,CAData.ALIF_ILEUS); ct_ALIF_Sepsis\n"
   ]
  },
  {
   "cell_type": "code",
   "execution_count": 63,
   "metadata": {
    "collapsed": false
   },
   "outputs": [
    {
     "data": {
      "text/html": [
       "<div>\n",
       "<table border=\"1\" class=\"dataframe\">\n",
       "  <thead>\n",
       "    <tr style=\"text-align: right;\">\n",
       "      <th>ALIF_ILEUS</th>\n",
       "      <th>0.0</th>\n",
       "      <th>1.0</th>\n",
       "    </tr>\n",
       "    <tr>\n",
       "      <th>Sepsis_NPOA</th>\n",
       "      <th></th>\n",
       "      <th></th>\n",
       "    </tr>\n",
       "  </thead>\n",
       "  <tbody>\n",
       "    <tr>\n",
       "      <th>0.0</th>\n",
       "      <td>0.950355</td>\n",
       "      <td>0.982818</td>\n",
       "    </tr>\n",
       "    <tr>\n",
       "      <th>1.0</th>\n",
       "      <td>0.049645</td>\n",
       "      <td>0.017182</td>\n",
       "    </tr>\n",
       "  </tbody>\n",
       "</table>\n",
       "</div>"
      ],
      "text/plain": [
       "ALIF_ILEUS        0.0       1.0\n",
       "Sepsis_NPOA                    \n",
       "0.0          0.950355  0.982818\n",
       "1.0          0.049645  0.017182"
      ]
     },
     "execution_count": 63,
     "metadata": {},
     "output_type": "execute_result"
    }
   ],
   "source": [
    "pd.crosstab(CAData.Sepsis_NPOA,CAData.ALIF_ILEUS).apply(lambda x: x/x.sum(), 0)\n"
   ]
  },
  {
   "cell_type": "code",
   "execution_count": 64,
   "metadata": {
    "collapsed": false
   },
   "outputs": [
    {
     "name": "stdout",
     "output_type": "stream",
     "text": [
      "Odds ratio: 0.334667966906\n"
     ]
    }
   ],
   "source": [
    "print('Odds ratio:', stats.fisher_exact(ct_ALIF_Sepsis)[0])\n"
   ]
  },
  {
   "cell_type": "code",
   "execution_count": 65,
   "metadata": {
    "collapsed": false
   },
   "outputs": [
    {
     "data": {
      "text/plain": [
       "'\\n> prop.test(c(15181,40),c(305791,2328))\\n\\n2-sample test for equality of proportions with continuity correction\\n\\ndata:  c(15181, 40) out of c(305791, 2328)\\nX-squared = 51.16, df = 1, p-value = 8.513e-13\\nalternative hypothesis: two.sided\\n95 percent confidence interval:\\n 0.02691188 0.03801390\\nsample estimates:\\n    prop 1     prop 2 \\n0.04964502 0.01718213 \\n'"
      ]
     },
     "execution_count": 65,
     "metadata": {},
     "output_type": "execute_result"
    }
   ],
   "source": [
    "#Implemented the hypothesis test in R\n",
    "'''\n",
    "> prop.test(c(15181,40),c(305791,2328))\n",
    "\n",
    "2-sample test for equality of proportions with continuity correction\n",
    "\n",
    "data:  c(15181, 40) out of c(305791, 2328)\n",
    "X-squared = 51.16, df = 1, p-value = 8.513e-13\n",
    "alternative hypothesis: two.sided\n",
    "95 percent confidence interval:\n",
    " 0.02691188 0.03801390\n",
    "sample estimates:\n",
    "    prop 1     prop 2 \n",
    "0.04964502 0.01718213 \n",
    "'''\n",
    "#significant"
   ]
  },
  {
   "cell_type": "markdown",
   "metadata": {
    "collapsed": true
   },
   "source": [
    "### 14). Comparing PLIF_ILEUS vs Sepsis_NPOA to see if there is a higher rate of Sepsis for patients that undergo PLIF_ILEUS."
   ]
  },
  {
   "cell_type": "code",
   "execution_count": 66,
   "metadata": {
    "collapsed": false
   },
   "outputs": [
    {
     "data": {
      "text/html": [
       "<div>\n",
       "<table border=\"1\" class=\"dataframe\">\n",
       "  <thead>\n",
       "    <tr style=\"text-align: right;\">\n",
       "      <th>PLIF_ILEUS</th>\n",
       "      <th>0.0</th>\n",
       "      <th>1.0</th>\n",
       "    </tr>\n",
       "    <tr>\n",
       "      <th>Sepsis_NPOA</th>\n",
       "      <th></th>\n",
       "      <th></th>\n",
       "    </tr>\n",
       "  </thead>\n",
       "  <tbody>\n",
       "    <tr>\n",
       "      <th>0.0</th>\n",
       "      <td>292125</td>\n",
       "      <td>773</td>\n",
       "    </tr>\n",
       "    <tr>\n",
       "      <th>1.0</th>\n",
       "      <td>15203</td>\n",
       "      <td>18</td>\n",
       "    </tr>\n",
       "  </tbody>\n",
       "</table>\n",
       "</div>"
      ],
      "text/plain": [
       "PLIF_ILEUS      0.0  1.0\n",
       "Sepsis_NPOA             \n",
       "0.0          292125  773\n",
       "1.0           15203   18"
      ]
     },
     "execution_count": 66,
     "metadata": {},
     "output_type": "execute_result"
    }
   ],
   "source": [
    "ct_PLIF_Sepsis = pd.crosstab(CAData.Sepsis_NPOA,CAData.PLIF_ILEUS); ct_PLIF_Sepsis\n"
   ]
  },
  {
   "cell_type": "code",
   "execution_count": 67,
   "metadata": {
    "collapsed": false
   },
   "outputs": [
    {
     "data": {
      "text/html": [
       "<div>\n",
       "<table border=\"1\" class=\"dataframe\">\n",
       "  <thead>\n",
       "    <tr style=\"text-align: right;\">\n",
       "      <th>PLIF_ILEUS</th>\n",
       "      <th>0.0</th>\n",
       "      <th>1.0</th>\n",
       "    </tr>\n",
       "    <tr>\n",
       "      <th>Sepsis_NPOA</th>\n",
       "      <th></th>\n",
       "      <th></th>\n",
       "    </tr>\n",
       "  </thead>\n",
       "  <tbody>\n",
       "    <tr>\n",
       "      <th>0.0</th>\n",
       "      <td>0.950532</td>\n",
       "      <td>0.977244</td>\n",
       "    </tr>\n",
       "    <tr>\n",
       "      <th>1.0</th>\n",
       "      <td>0.049468</td>\n",
       "      <td>0.022756</td>\n",
       "    </tr>\n",
       "  </tbody>\n",
       "</table>\n",
       "</div>"
      ],
      "text/plain": [
       "PLIF_ILEUS        0.0       1.0\n",
       "Sepsis_NPOA                    \n",
       "0.0          0.950532  0.977244\n",
       "1.0          0.049468  0.022756"
      ]
     },
     "execution_count": 67,
     "metadata": {},
     "output_type": "execute_result"
    }
   ],
   "source": [
    "pd.crosstab(CAData.Sepsis_NPOA,CAData.PLIF_ILEUS).apply(lambda x: x/x.sum(), 0)\n"
   ]
  },
  {
   "cell_type": "code",
   "execution_count": 68,
   "metadata": {
    "collapsed": false
   },
   "outputs": [
    {
     "name": "stdout",
     "output_type": "stream",
     "text": [
      "Odds ratio: 0.447437563176\n"
     ]
    }
   ],
   "source": [
    "print('Odds ratio:', stats.fisher_exact(ct_PLIF_Sepsis)[0])\n"
   ]
  },
  {
   "cell_type": "code",
   "execution_count": 69,
   "metadata": {
    "collapsed": false
   },
   "outputs": [
    {
     "data": {
      "text/plain": [
       "'\\n> prop.test(c(15203,18),c(307328,791))\\n\\n\\t2-sample test for equality of proportions with continuity correction\\n\\ndata:  c(15203, 18) out of c(307328, 791)\\nX-squared = 11.426, df = 1, p-value = 0.0007241\\nalternative hypothesis: two.sided\\n95 percent confidence interval:\\n 0.01565809 0.03776654\\nsample estimates:\\n    prop 1     prop 2 \\n0.04946832 0.02275601 \\n\\n'"
      ]
     },
     "execution_count": 69,
     "metadata": {},
     "output_type": "execute_result"
    }
   ],
   "source": [
    "#Implemented the hypothesis test in R\n",
    "'''\n",
    "> prop.test(c(15203,18),c(307328,791))\n",
    "\n",
    "\t2-sample test for equality of proportions with continuity correction\n",
    "\n",
    "data:  c(15203, 18) out of c(307328, 791)\n",
    "X-squared = 11.426, df = 1, p-value = 0.0007241\n",
    "alternative hypothesis: two.sided\n",
    "95 percent confidence interval:\n",
    " 0.01565809 0.03776654\n",
    "sample estimates:\n",
    "    prop 1     prop 2 \n",
    "0.04946832 0.02275601 \n",
    "\n",
    "'''\n",
    "#significant"
   ]
  },
  {
   "cell_type": "markdown",
   "metadata": {
    "collapsed": true
   },
   "source": [
    "### 15). Comparing CERVICAL_Combined vs Sepsis_NPOA to see if there is a higher rate of Sepsis for patients that undergo CERVICAL_Combined."
   ]
  },
  {
   "cell_type": "code",
   "execution_count": 70,
   "metadata": {
    "collapsed": false
   },
   "outputs": [
    {
     "data": {
      "text/html": [
       "<div>\n",
       "<table border=\"1\" class=\"dataframe\">\n",
       "  <thead>\n",
       "    <tr style=\"text-align: right;\">\n",
       "      <th>col_0</th>\n",
       "      <th>0.0</th>\n",
       "      <th>1.0</th>\n",
       "    </tr>\n",
       "    <tr>\n",
       "      <th>Sepsis_NPOA</th>\n",
       "      <th></th>\n",
       "      <th></th>\n",
       "    </tr>\n",
       "  </thead>\n",
       "  <tbody>\n",
       "    <tr>\n",
       "      <th>0.0</th>\n",
       "      <td>289360</td>\n",
       "      <td>3538</td>\n",
       "    </tr>\n",
       "    <tr>\n",
       "      <th>1.0</th>\n",
       "      <td>15127</td>\n",
       "      <td>94</td>\n",
       "    </tr>\n",
       "  </tbody>\n",
       "</table>\n",
       "</div>"
      ],
      "text/plain": [
       "col_0           0.0   1.0\n",
       "Sepsis_NPOA              \n",
       "0.0          289360  3538\n",
       "1.0           15127    94"
      ]
     },
     "execution_count": 70,
     "metadata": {},
     "output_type": "execute_result"
    }
   ],
   "source": [
    "ct_Combined_Sepsis = pd.crosstab(CAData.Sepsis_NPOA,CAData.Combined); ct_Combined_Sepsis"
   ]
  },
  {
   "cell_type": "code",
   "execution_count": 71,
   "metadata": {
    "collapsed": false
   },
   "outputs": [
    {
     "data": {
      "text/html": [
       "<div>\n",
       "<table border=\"1\" class=\"dataframe\">\n",
       "  <thead>\n",
       "    <tr style=\"text-align: right;\">\n",
       "      <th>col_0</th>\n",
       "      <th>0.0</th>\n",
       "      <th>1.0</th>\n",
       "    </tr>\n",
       "    <tr>\n",
       "      <th>Sepsis_NPOA</th>\n",
       "      <th></th>\n",
       "      <th></th>\n",
       "    </tr>\n",
       "  </thead>\n",
       "  <tbody>\n",
       "    <tr>\n",
       "      <th>0.0</th>\n",
       "      <td>0.95032</td>\n",
       "      <td>0.974119</td>\n",
       "    </tr>\n",
       "    <tr>\n",
       "      <th>1.0</th>\n",
       "      <td>0.04968</td>\n",
       "      <td>0.025881</td>\n",
       "    </tr>\n",
       "  </tbody>\n",
       "</table>\n",
       "</div>"
      ],
      "text/plain": [
       "col_0            0.0       1.0\n",
       "Sepsis_NPOA                   \n",
       "0.0          0.95032  0.974119\n",
       "1.0          0.04968  0.025881"
      ]
     },
     "execution_count": 71,
     "metadata": {},
     "output_type": "execute_result"
    }
   ],
   "source": [
    "pd.crosstab(CAData.Sepsis_NPOA,CAData.Combined).apply(lambda x: x/x.sum(), 0)\n"
   ]
  },
  {
   "cell_type": "code",
   "execution_count": 72,
   "metadata": {
    "collapsed": false
   },
   "outputs": [
    {
     "name": "stdout",
     "output_type": "stream",
     "text": [
      "Odds ratio: 0.508224636461\n"
     ]
    }
   ],
   "source": [
    "print('Odds ratio:', stats.fisher_exact(ct_Combined_Sepsis)[0])\n"
   ]
  },
  {
   "cell_type": "code",
   "execution_count": 73,
   "metadata": {
    "collapsed": false
   },
   "outputs": [
    {
     "data": {
      "text/plain": [
       "'\\n> prop.test(c(15127,94),c(304487,3632))\\n\\n2-sample test for equality of proportions with continuity correction\\n\\ndata:  c(15127, 94) out of c(304487, 3632)\\nX-squared = 42.786, df = 1, p-value = 6.107e-11\\nalternative hypothesis: two.sided\\n95 percent confidence interval:\\n 0.01843873 0.02915972\\nsample estimates:\\n    prop 1     prop 2 \\n0.04968028 0.02588106 \\n\\n'"
      ]
     },
     "execution_count": 73,
     "metadata": {},
     "output_type": "execute_result"
    }
   ],
   "source": [
    "#Implemented the hypothesis test in R\n",
    "'''\n",
    "> prop.test(c(15127,94),c(304487,3632))\n",
    "\n",
    "2-sample test for equality of proportions with continuity correction\n",
    "\n",
    "data:  c(15127, 94) out of c(304487, 3632)\n",
    "X-squared = 42.786, df = 1, p-value = 6.107e-11\n",
    "alternative hypothesis: two.sided\n",
    "95 percent confidence interval:\n",
    " 0.01843873 0.02915972\n",
    "sample estimates:\n",
    "    prop 1     prop 2 \n",
    "0.04968028 0.02588106 \n",
    "\n",
    "'''\n",
    "#significant"
   ]
  },
  {
   "cell_type": "markdown",
   "metadata": {
    "collapsed": true
   },
   "source": [
    "### 16). Comparing COMBINED (Anterior/posterior thoracic/lumbar fusion) vs Sepsis_NPOA to see if there is a higher rate of Sepsis for patients that undergo COMBINED (Anterior/posterior thoracic/lumbar fusion)."
   ]
  },
  {
   "cell_type": "code",
   "execution_count": 74,
   "metadata": {
    "collapsed": false
   },
   "outputs": [
    {
     "data": {
      "text/html": [
       "<div>\n",
       "<table border=\"1\" class=\"dataframe\">\n",
       "  <thead>\n",
       "    <tr style=\"text-align: right;\">\n",
       "      <th>COMBINED</th>\n",
       "      <th>0.0</th>\n",
       "      <th>1.0</th>\n",
       "    </tr>\n",
       "    <tr>\n",
       "      <th>Sepsis_NPOA</th>\n",
       "      <th></th>\n",
       "      <th></th>\n",
       "    </tr>\n",
       "  </thead>\n",
       "  <tbody>\n",
       "    <tr>\n",
       "      <th>0.0</th>\n",
       "      <td>289200</td>\n",
       "      <td>3698</td>\n",
       "    </tr>\n",
       "    <tr>\n",
       "      <th>1.0</th>\n",
       "      <td>15193</td>\n",
       "      <td>28</td>\n",
       "    </tr>\n",
       "  </tbody>\n",
       "</table>\n",
       "</div>"
      ],
      "text/plain": [
       "COMBINED        0.0   1.0\n",
       "Sepsis_NPOA              \n",
       "0.0          289200  3698\n",
       "1.0           15193    28"
      ]
     },
     "execution_count": 74,
     "metadata": {},
     "output_type": "execute_result"
    }
   ],
   "source": [
    "ct_COMBINED_Sepsis = pd.crosstab(CAData.Sepsis_NPOA,CAData.COMBINED); ct_COMBINED_Sepsis"
   ]
  },
  {
   "cell_type": "code",
   "execution_count": 75,
   "metadata": {
    "collapsed": false
   },
   "outputs": [
    {
     "data": {
      "text/html": [
       "<div>\n",
       "<table border=\"1\" class=\"dataframe\">\n",
       "  <thead>\n",
       "    <tr style=\"text-align: right;\">\n",
       "      <th>COMBINED</th>\n",
       "      <th>0.0</th>\n",
       "      <th>1.0</th>\n",
       "    </tr>\n",
       "    <tr>\n",
       "      <th>Sepsis_NPOA</th>\n",
       "      <th></th>\n",
       "      <th></th>\n",
       "    </tr>\n",
       "  </thead>\n",
       "  <tbody>\n",
       "    <tr>\n",
       "      <th>0.0</th>\n",
       "      <td>0.950088</td>\n",
       "      <td>0.992485</td>\n",
       "    </tr>\n",
       "    <tr>\n",
       "      <th>1.0</th>\n",
       "      <td>0.049912</td>\n",
       "      <td>0.007515</td>\n",
       "    </tr>\n",
       "  </tbody>\n",
       "</table>\n",
       "</div>"
      ],
      "text/plain": [
       "COMBINED          0.0       1.0\n",
       "Sepsis_NPOA                    \n",
       "0.0          0.950088  0.992485\n",
       "1.0          0.049912  0.007515"
      ]
     },
     "execution_count": 75,
     "metadata": {},
     "output_type": "execute_result"
    }
   ],
   "source": [
    "pd.crosstab(CAData.Sepsis_NPOA,CAData.COMBINED).apply(lambda x: x/x.sum(), 0)\n"
   ]
  },
  {
   "cell_type": "code",
   "execution_count": 76,
   "metadata": {
    "collapsed": false
   },
   "outputs": [
    {
     "name": "stdout",
     "output_type": "stream",
     "text": [
      "Odds ratio: 0.144127175359\n"
     ]
    }
   ],
   "source": [
    "print('Odds ratio:', stats.fisher_exact(ct_COMBINED_Sepsis)[0])\n"
   ]
  },
  {
   "cell_type": "code",
   "execution_count": 77,
   "metadata": {
    "collapsed": false
   },
   "outputs": [
    {
     "data": {
      "text/plain": [
       "'\\n> prop.test(c(15193,28),c(304393,3726))\\n\\n2-sample test for equality of proportions with continuity correction\\n\\ndata:  c(15193, 28) out of c(304393, 3726)\\nX-squared = 140, df = 1, p-value < 2.2e-16\\nalternative hypothesis: two.sided\\n95 percent confidence interval:\\n 0.03938299 0.04541239\\nsample estimates:\\n     prop 1      prop 2 \\n0.049912449 0.007514761\\n\\n'"
      ]
     },
     "execution_count": 77,
     "metadata": {},
     "output_type": "execute_result"
    }
   ],
   "source": [
    "#Implemented the hypothesis test in R\n",
    "'''\n",
    "> prop.test(c(15193,28),c(304393,3726))\n",
    "\n",
    "2-sample test for equality of proportions with continuity correction\n",
    "\n",
    "data:  c(15193, 28) out of c(304393, 3726)\n",
    "X-squared = 140, df = 1, p-value < 2.2e-16\n",
    "alternative hypothesis: two.sided\n",
    "95 percent confidence interval:\n",
    " 0.03938299 0.04541239\n",
    "sample estimates:\n",
    "     prop 1      prop 2 \n",
    "0.049912449 0.007514761\n",
    "\n",
    "'''\n",
    "#significant"
   ]
  }
 ],
 "metadata": {
  "anaconda-cloud": {},
  "kernelspec": {
   "display_name": "Python 3",
   "language": "python",
   "name": "python3"
  },
  "language_info": {
   "codemirror_mode": {
    "name": "ipython",
    "version": 3
   },
   "file_extension": ".py",
   "mimetype": "text/x-python",
   "name": "python",
   "nbconvert_exporter": "python",
   "pygments_lexer": "ipython3",
   "version": "3.6.0"
  }
 },
 "nbformat": 4,
 "nbformat_minor": 0
}
